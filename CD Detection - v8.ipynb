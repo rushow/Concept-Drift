{
 "cells": [
  {
   "cell_type": "code",
   "execution_count": 51,
   "id": "0241ace8",
   "metadata": {},
   "outputs": [],
   "source": [
    "import pandas as pd\n",
    "import numpy as np\n",
    "import matplotlib.pyplot as plt\n",
    "import seaborn as sns\n",
    "from sklearn.model_selection import train_test_split\n",
    "from sklearn.metrics import classification_report,confusion_matrix,accuracy_score, precision_score, recall_score, f1_score\n",
    "import time"
   ]
  },
  {
   "cell_type": "code",
   "execution_count": 52,
   "id": "eb92700f",
   "metadata": {},
   "outputs": [],
   "source": [
    "# Import the online learning metrics and algorithms from the River library\n",
    "from river import metrics\n",
    "from river import stream\n",
    "from river import tree,neighbors,naive_bayes,ensemble,linear_model\n",
    "from river.drift import ADWIN, KSWIN\n",
    "from river.drift.binary import DDM, EDDM\n",
    "from river import forest"
   ]
  },
  {
   "cell_type": "code",
   "execution_count": 53,
   "id": "7a77e7bc",
   "metadata": {},
   "outputs": [],
   "source": [
    "def get_data():\n",
    "    df  = pd.read_csv(\"dataverse/rt_8873985678962563_gradual.csv\")\n",
    "\n",
    "    X, y = [], []\n",
    "\n",
    "    for i in range(len(df)):\n",
    "        X.append([df.loc[i, \"X1\"], df.loc[i, \"X2\"]])\n",
    "        y.append(df.loc[i, \"class\"])\n",
    "\n",
    "    return np.array(X), np.array(y)\n",
    "\n",
    "# Generate the dataset\n",
    "X, y = get_data()\n",
    "\n",
    "# Split the data into training and testing sets\n",
    "X_train, X_test, y_train, y_test = train_test_split(X, y, test_size=0.3, random_state=42)"
   ]
  },
  {
   "cell_type": "code",
   "execution_count": 54,
   "id": "4a3c9fbb",
   "metadata": {},
   "outputs": [],
   "source": [
    "# Define a generic adaptive learning function\n",
    "# The argument \"model\" means an online adaptive learning algorithm\n",
    "def adaptive_learning(model, drift_detector, X_train, y_train, X_test, y_test):\n",
    "    metric = metrics.Accuracy() # Use accuracy as the metric\n",
    "    i = 0 # count the number of evaluated data points\n",
    "    t = [] # record the number of evaluated data points\n",
    "    m = [] # record the real-time accuracy\n",
    "    yt = [] # record all the true labels of the test set\n",
    "    yp = [] # record all the predicted labels of the test set\n",
    "    \n",
    "    drift_detect = drift_detector\n",
    "    print('drift_detector: ', drift_detector)\n",
    "    \n",
    "    # Learn the training set\n",
    "    for xi1, yi1 in stream.iter_array(X_train, y_train):\n",
    "        model.learn_one(xi1,yi1)\n",
    "\n",
    "\n",
    "    # Predict the test set\n",
    "    for xi, yi in stream.iter_array(X_test, y_test):\n",
    "        y_pred= model.predict_one(xi)  # Predict the test sample\n",
    "        model.learn_one(xi,yi) # Learn the test sample\n",
    "#         print(\"yi: \"+ str(yi))\n",
    "#         print(\"y_pred: \"+ str(y_pred))\n",
    "        metric.update(yi, y_pred) # Update the real-time accuracy\n",
    "        \n",
    "        #drift_detection part\n",
    "#         val = 0\n",
    "#         if yi != y_pred:\n",
    "#             val = 1 \n",
    "#         in_drift = drift_detect.update(yi)\n",
    "#         if in_drift:\n",
    "#             print(f\"Change detected at index {i}\")\n",
    "\n",
    "        drift_detect.update(float(yi))\n",
    "        if drift_detect.drift_detected:\n",
    "            print(f\"Change detected at index {i}\")\n",
    "            if str(drift_detect) != 'EDDM':\n",
    "                drift_detect.reset()\n",
    "            \n",
    "            \n",
    "#         val = 0\n",
    "#         if yi != y_pred:\n",
    "#             val = 1 \n",
    "#         drift_detect.update(float(val))\n",
    "#         if drift_detector.drift_detected:\n",
    "#             print(f\"Change detected at index {i}\")\n",
    "        \n",
    "        t.append(i)\n",
    "#         print(\"metric: \"+ str(metric))\n",
    "#         if metric == None:\n",
    "#             m.append(0*100)\n",
    "#         else:\n",
    "#             m.append(metric.get()*100)\n",
    "            \n",
    "        m.append(metric.get()*100)\n",
    "            \n",
    "        yt.append(yi)\n",
    "        yp.append(y_pred)\n",
    "        i = i+1\n",
    "    print(\"Accuracy: \"+str(round(accuracy_score(yt,yp),4)*100)+\"%\")\n",
    "    print(\"Precision: \"+str(round(precision_score(yt,yp),4)*100)+\"%\")\n",
    "    print(\"Recall: \"+str(round(recall_score(yt,yp),4)*100)+\"%\")\n",
    "    print(\"F1-score: \"+str(round(f1_score(yt,yp),4)*100)+\"%\")\n",
    "    return t, m"
   ]
  },
  {
   "cell_type": "code",
   "execution_count": 55,
   "id": "44b49bd4",
   "metadata": {},
   "outputs": [
    {
     "name": "stdout",
     "output_type": "stream",
     "text": [
      "drift_detector:  DDM\n",
      "Accuracy: 65.89%\n",
      "Precision: 67.02%\n",
      "Recall: 57.98%\n",
      "F1-score: 62.17%\n"
     ]
    }
   ],
   "source": [
    "# Use the Gaussian Naive Bayes as a baseline model\n",
    "name_01 = \"Gaussian Naive Bayes with DDM\"\n",
    "model_01 = naive_bayes.GaussianNB() # Define the model\n",
    "drift_detector_01 = DDM() # Define the drift detector\n",
    "t, m_01 = adaptive_learning(model_01, drift_detector_01, X_train, y_train, X_test, y_test) # Learn the model on the dataset\n",
    "# acc_fig(t, m_01, name_01) # Draw the figure of how the real-time accuracy changes with the number of samples"
   ]
  },
  {
   "cell_type": "code",
   "execution_count": 56,
   "id": "4dc5a78c",
   "metadata": {},
   "outputs": [],
   "source": [
    "# Drift detection\n",
    "drift_detector = ADWIN()\n",
    "# drifts = []\n",
    "\n",
    "for i, (X, y) in enumerate(zip(X_train, y_train)):\n",
    "    drift_detector.update(y)   # Here we are using the label for drift detection\n",
    "    if drift_detector.drift_detected:\n",
    "        print(f'Change detected at index {i}')\n",
    "#         drifts.append(i)\n",
    "        drift_detector.reset()   # Resetting the detector after a drift is detected"
   ]
  }
 ],
 "metadata": {
  "kernelspec": {
   "display_name": "Python 3 (ipykernel)",
   "language": "python",
   "name": "python3"
  },
  "language_info": {
   "codemirror_mode": {
    "name": "ipython",
    "version": 3
   },
   "file_extension": ".py",
   "mimetype": "text/x-python",
   "name": "python",
   "nbconvert_exporter": "python",
   "pygments_lexer": "ipython3",
   "version": "3.11.5"
  }
 },
 "nbformat": 4,
 "nbformat_minor": 5
}
