{
 "cells": [
  {
   "cell_type": "code",
   "execution_count": 67,
   "id": "8074b97d",
   "metadata": {},
   "outputs": [],
   "source": [
    "import pandas as pd\n",
    "from river import naive_bayes, tree, metrics, drift\n",
    "from sklearn.model_selection import train_test_split"
   ]
  },
  {
   "cell_type": "code",
   "execution_count": 68,
   "id": "4e9048a7",
   "metadata": {},
   "outputs": [],
   "source": [
    "def get_data():\n",
    "    # Placeholder for your actual data loading mechanism\n",
    "    df = pd.read_csv(\"dataverse/rt_8873985678962563_abrupto.csv\")\n",
    "    return df[['X1', 'X2']], df['class']"
   ]
  },
  {
   "cell_type": "code",
   "execution_count": 69,
   "id": "f42afffe",
   "metadata": {},
   "outputs": [],
   "source": [
    "# Load the dataset\n",
    "X, y = get_data()\n",
    "\n",
    "# Split the data into training and testing sets\n",
    "X_train, X_test, y_train, y_test = train_test_split(X, y, test_size=0.7, random_state=42)"
   ]
  },
  {
   "cell_type": "code",
   "execution_count": 70,
   "id": "3893b840",
   "metadata": {},
   "outputs": [],
   "source": [
    "# Initialize drift detectors\n",
    "drift_detectors = {\n",
    "    'ADWIN': drift.ADWIN(),\n",
    "    'KSWIN': drift.KSWIN(),\n",
    "    'DDM': drift.binary.DDM(),\n",
    "    'EDDM': drift.binary.EDDM(),\n",
    "    'PageHinkley': drift.PageHinkley()\n",
    "}\n",
    "\n",
    "# Initialize base learners\n",
    "base_learners = {\n",
    "    'Naive Bayes': naive_bayes.GaussianNB(),\n",
    "    'Hoeffding Tree': tree.HoeffdingTreeClassifier()\n",
    "}\n",
    "\n",
    "# Initialize metrics\n",
    "metrics_dict = {name: {'accuracy': metrics.Accuracy(), 'auc': metrics.ROCAUC(), 'f1': metrics.F1(), 'Precision': metrics.Precision()} for name in base_learners}"
   ]
  },
  {
   "cell_type": "code",
   "execution_count": 71,
   "id": "632c9785",
   "metadata": {},
   "outputs": [],
   "source": [
    "# Function to train and test models with different drift detectors\n",
    "def train_and_evaluate(base_learner_name, base_learner, drift_detector):\n",
    "    model = base_learner.clone()\n",
    "    model_metrics = {metric_name: metric.clone() for metric_name, metric in metrics_dict[base_learner_name].items()}\n",
    "    i = 0\n",
    "    \n",
    "    for x, y_true in zip(X_train.to_dict(orient='records'), y_train):\n",
    "#         pred = model.predict_one(x)\n",
    "#         is_correct = int(pred != y_true)\n",
    "        \n",
    "#         # Update drift detector with the error signal (0 or 1)\n",
    "#         in_drift = drift_detector.update(is_correct).change if hasattr(drift_detector.update(is_correct), 'change') else False\n",
    "        \n",
    "#         if in_drift:\n",
    "#             print(f\"Change detected at index {i}\")\n",
    "#             model = base_learner.clone()\n",
    "#             model_metrics = {metric_name: metric.clone() for metric_name, metric in metrics_dict[base_learner_name].items()}\n",
    "        \n",
    "        model.learn_one(x, y_true)\n",
    "        \n",
    "#         if y_true and pred:\n",
    "#             for metric in model_metrics.values():\n",
    "#                 metric.update(y_true, pred)\n",
    "        \n",
    "    \n",
    "    for x, y_true in zip(X_test.to_dict(orient='records'), y_test):\n",
    "        pred = model.predict_one(x)\n",
    "        \n",
    "        model.learn_one(x, y_true)\n",
    "        for metric in model_metrics.values():\n",
    "            metric.update(y_true, pred)\n",
    "            \n",
    "        is_correct = int(pred != y_true)\n",
    "        \n",
    "        in_drift = drift_detector.update(y_true)\n",
    "        if drift_detector.drift_detected:\n",
    "            print(f\"Change detected at index {i}\")\n",
    "#             drift_detector.reset()\n",
    "        \n",
    "        # Update drift detector with the error signal (0 or 1)\n",
    "#         in_drift = drift_detector.update(is_correct).change if hasattr(drift_detector.update(is_correct), 'change') else False\n",
    "        \n",
    "        if in_drift:\n",
    "#             print(f\"Change detected at index {i}\")\n",
    "            model = base_learner.clone()\n",
    "            model_metrics = {metric_name: metric.clone() for metric_name, metric in metrics_dict[base_learner_name].items()}\n",
    "        \n",
    "        i = i + 1\n",
    "    \n",
    "    return model_metrics"
   ]
  },
  {
   "cell_type": "code",
   "execution_count": 72,
   "id": "ad095f98",
   "metadata": {},
   "outputs": [
    {
     "name": "stdout",
     "output_type": "stream",
     "text": [
      "Evaluating Naive Bayes with ADWIN:\n",
      "accuracy: 0.6551071428571429\n",
      "auc: 0.6525099374401298\n",
      "f1: 0.6162527319690047\n",
      "Precision: 0.6673551940786643\n",
      "Evaluating Hoeffding Tree with ADWIN:\n",
      "accuracy: 0.6824642857142857\n",
      "auc: 0.6818900175656152\n",
      "f1: 0.669295145992189\n",
      "Precision: 0.6744883424544569\n",
      "Evaluating Naive Bayes with KSWIN:\n",
      "Change detected at index 498\n"
     ]
    },
    {
     "ename": "AttributeError",
     "evalue": "'KSWIN' object has no attribute 'reset'",
     "output_type": "error",
     "traceback": [
      "\u001b[1;31m---------------------------------------------------------------------------\u001b[0m",
      "\u001b[1;31mAttributeError\u001b[0m                            Traceback (most recent call last)",
      "Cell \u001b[1;32mIn[72], line 5\u001b[0m\n\u001b[0;32m      3\u001b[0m \u001b[38;5;28;01mfor\u001b[39;00m learner_name, learner \u001b[38;5;129;01min\u001b[39;00m base_learners\u001b[38;5;241m.\u001b[39mitems():\n\u001b[0;32m      4\u001b[0m     \u001b[38;5;28mprint\u001b[39m(\u001b[38;5;124mf\u001b[39m\u001b[38;5;124m\"\u001b[39m\u001b[38;5;124mEvaluating \u001b[39m\u001b[38;5;132;01m{\u001b[39;00mlearner_name\u001b[38;5;132;01m}\u001b[39;00m\u001b[38;5;124m with \u001b[39m\u001b[38;5;132;01m{\u001b[39;00mdrift_name\u001b[38;5;132;01m}\u001b[39;00m\u001b[38;5;124m:\u001b[39m\u001b[38;5;124m\"\u001b[39m)\n\u001b[1;32m----> 5\u001b[0m     evaluated_metrics \u001b[38;5;241m=\u001b[39m train_and_evaluate(learner_name, learner, drift_detector\u001b[38;5;241m.\u001b[39mclone())\n\u001b[0;32m      6\u001b[0m     \u001b[38;5;28;01mfor\u001b[39;00m metric_name, metric \u001b[38;5;129;01min\u001b[39;00m evaluated_metrics\u001b[38;5;241m.\u001b[39mitems():\n\u001b[0;32m      7\u001b[0m         \u001b[38;5;28mprint\u001b[39m(\u001b[38;5;124mf\u001b[39m\u001b[38;5;124m\"\u001b[39m\u001b[38;5;132;01m{\u001b[39;00mmetric_name\u001b[38;5;132;01m}\u001b[39;00m\u001b[38;5;124m: \u001b[39m\u001b[38;5;132;01m{\u001b[39;00mmetric\u001b[38;5;241m.\u001b[39mget()\u001b[38;5;132;01m}\u001b[39;00m\u001b[38;5;124m\"\u001b[39m)\n",
      "Cell \u001b[1;32mIn[71], line 38\u001b[0m, in \u001b[0;36mtrain_and_evaluate\u001b[1;34m(base_learner_name, base_learner, drift_detector)\u001b[0m\n\u001b[0;32m     36\u001b[0m         \u001b[38;5;28;01mif\u001b[39;00m drift_detector\u001b[38;5;241m.\u001b[39mdrift_detected:\n\u001b[0;32m     37\u001b[0m             \u001b[38;5;28mprint\u001b[39m(\u001b[38;5;124mf\u001b[39m\u001b[38;5;124m\"\u001b[39m\u001b[38;5;124mChange detected at index \u001b[39m\u001b[38;5;132;01m{\u001b[39;00mi\u001b[38;5;132;01m}\u001b[39;00m\u001b[38;5;124m\"\u001b[39m)\n\u001b[1;32m---> 38\u001b[0m             drift_detector\u001b[38;5;241m.\u001b[39mreset()\n\u001b[0;32m     40\u001b[0m         \u001b[38;5;66;03m# Update drift detector with the error signal (0 or 1)\u001b[39;00m\n\u001b[0;32m     41\u001b[0m \u001b[38;5;66;03m#         in_drift = drift_detector.update(is_correct).change if hasattr(drift_detector.update(is_correct), 'change') else False\u001b[39;00m\n\u001b[0;32m     43\u001b[0m         \u001b[38;5;28;01mif\u001b[39;00m in_drift:\n\u001b[0;32m     44\u001b[0m \u001b[38;5;66;03m#             print(f\"Change detected at index {i}\")\u001b[39;00m\n",
      "\u001b[1;31mAttributeError\u001b[0m: 'KSWIN' object has no attribute 'reset'"
     ]
    }
   ],
   "source": [
    "\n",
    "# Evaluate each combination of base learner and drift detector\n",
    "for drift_name, drift_detector in drift_detectors.items():\n",
    "    for learner_name, learner in base_learners.items():\n",
    "        print(f\"Evaluating {learner_name} with {drift_name}:\")\n",
    "        evaluated_metrics = train_and_evaluate(learner_name, learner, drift_detector.clone())\n",
    "        for metric_name, metric in evaluated_metrics.items():\n",
    "            print(f\"{metric_name}: {metric.get()}\")\n",
    "\n"
   ]
  }
 ],
 "metadata": {
  "kernelspec": {
   "display_name": "Python 3 (ipykernel)",
   "language": "python",
   "name": "python3"
  },
  "language_info": {
   "codemirror_mode": {
    "name": "ipython",
    "version": 3
   },
   "file_extension": ".py",
   "mimetype": "text/x-python",
   "name": "python",
   "nbconvert_exporter": "python",
   "pygments_lexer": "ipython3",
   "version": "3.11.5"
  }
 },
 "nbformat": 4,
 "nbformat_minor": 5
}
