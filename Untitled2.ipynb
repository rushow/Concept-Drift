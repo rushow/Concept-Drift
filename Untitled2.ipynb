{
 "cells": [
  {
   "cell_type": "code",
   "execution_count": 70,
   "id": "b594ad74",
   "metadata": {},
   "outputs": [],
   "source": [
    "import random\n",
    "from river.datasets import synth\n",
    "# from river import synth\n",
    "from river import naive_bayes\n",
    "from river import tree\n",
    "from river import metrics\n",
    "from river import drift\n",
    "from river import evaluate"
   ]
  },
  {
   "cell_type": "code",
   "execution_count": 71,
   "id": "42d5b5e3",
   "metadata": {},
   "outputs": [],
   "source": [
    "# Initialize two different base learners\n",
    "# nb = naive_bayes.MultinomialNB(alpha=1)  # Naive Bayes\n",
    "\n",
    "nb = naive_bayes.GaussianNB()\n",
    "ht = tree.HoeffdingTreeClassifier # Hoeffding Tree"
   ]
  },
  {
   "cell_type": "code",
   "execution_count": 72,
   "id": "16022222",
   "metadata": {},
   "outputs": [],
   "source": [
    "# Create a synthetic data stream with concept drift\n",
    "stream = synth.FriedmanDrift(\n",
    "    drift_type='gra',\n",
    "    position=(2, 3),\n",
    "    seed=42\n",
    ")\n"
   ]
  },
  {
   "cell_type": "code",
   "execution_count": 73,
   "id": "0b5ef609",
   "metadata": {},
   "outputs": [
    {
     "data": {
      "text/plain": [
       "{'Accuracy': Accuracy: 0.00%, 'AUC': ROCAUC: -0.00%}"
      ]
     },
     "execution_count": 73,
     "metadata": {},
     "output_type": "execute_result"
    }
   ],
   "source": [
    "# Initialize metrics\n",
    "metrics_nb = {'Accuracy': metrics.Accuracy(), 'AUC': metrics.ROCAUC()}\n",
    "metrics_ht = {'Accuracy': metrics.Accuracy(), 'AUC': metrics.ROCAUC()}\n",
    "\n",
    "metrics_nb"
   ]
  },
  {
   "cell_type": "code",
   "execution_count": 74,
   "id": "b81e3592",
   "metadata": {},
   "outputs": [
    {
     "ename": "AttributeError",
     "evalue": "'NoneType' object has no attribute 'learn_one'",
     "output_type": "error",
     "traceback": [
      "\u001b[1;31m---------------------------------------------------------------------------\u001b[0m",
      "\u001b[1;31mAttributeError\u001b[0m                            Traceback (most recent call last)",
      "Cell \u001b[1;32mIn[74], line 3\u001b[0m\n\u001b[0;32m      1\u001b[0m \u001b[38;5;66;03m# Process the data stream\u001b[39;00m\n\u001b[0;32m      2\u001b[0m \u001b[38;5;28;01mfor\u001b[39;00m i, (x, y) \u001b[38;5;129;01min\u001b[39;00m \u001b[38;5;28menumerate\u001b[39m(stream\u001b[38;5;241m.\u001b[39mtake(\u001b[38;5;241m2000\u001b[39m)):\n\u001b[1;32m----> 3\u001b[0m     nb \u001b[38;5;241m=\u001b[39m nb\u001b[38;5;241m.\u001b[39mlearn_one(x, y)\n",
      "\u001b[1;31mAttributeError\u001b[0m: 'NoneType' object has no attribute 'learn_one'"
     ]
    }
   ],
   "source": [
    "# Process the data stream\n",
    "for i, (x, y) in enumerate(stream.take(2000)):\n",
    "    nb = nb.learn_one(x, y)\n",
    "    \n",
    "\n",
    "    \n",
    "    "
   ]
  },
  {
   "cell_type": "code",
   "execution_count": null,
   "id": "d866a3a7",
   "metadata": {},
   "outputs": [],
   "source": [
    "# Process the data stream\n",
    "for i, (x, y) in enumerate(stream.take(2000)):\n",
    "    # Update models\n",
    "    y_pred_nb = nb.predict_one(x)\n",
    "    nb = nb.learn_one(x, y)\n",
    "    \n",
    "    print(metrics_nb.values())\n",
    "\n",
    "    # Update metrics\n",
    "    for metric in metrics_nb.values():\n",
    "        print(y)\n",
    "        print(y_pred_nb)\n",
    "        print(metric)\n",
    "        metric.update(y, y_pred_nb)\n",
    "\n",
    "    # Check for drift\n",
    "    in_drift, _ = adwin.update(y_pred_nb)\n",
    "    if in_drift:\n",
    "        print(f\"Drift detected at index {i} for Naive Bayes\")\n",
    "        adwin.reset()\n",
    "        nb = naive_bayes.MultinomialNB()  # Reset Naive Bayes\n",
    "\n",
    "\n"
   ]
  },
  {
   "cell_type": "code",
   "execution_count": null,
   "id": "d4f2792d",
   "metadata": {},
   "outputs": [],
   "source": [
    "# Print final metrics\n",
    "print(\"Final Metrics for Naive Bayes:\", {metric_name: metric.get() for metric_name, metric in metrics_nb.items()})\n",
    "# print(\"Final Metrics for Hoeffding Tree:\", {metric_name: metric.get() for metric_name, metric in metrics_ht.items()})\n"
   ]
  }
 ],
 "metadata": {
  "kernelspec": {
   "display_name": "Python 3 (ipykernel)",
   "language": "python",
   "name": "python3"
  },
  "language_info": {
   "codemirror_mode": {
    "name": "ipython",
    "version": 3
   },
   "file_extension": ".py",
   "mimetype": "text/x-python",
   "name": "python",
   "nbconvert_exporter": "python",
   "pygments_lexer": "ipython3",
   "version": "3.11.5"
  }
 },
 "nbformat": 4,
 "nbformat_minor": 5
}
