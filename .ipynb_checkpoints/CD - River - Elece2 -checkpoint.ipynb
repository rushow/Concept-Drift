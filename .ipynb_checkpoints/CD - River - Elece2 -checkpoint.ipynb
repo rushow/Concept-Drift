{
 "cells": [
  {
   "cell_type": "code",
   "execution_count": 1,
   "id": "5b40fc2b",
   "metadata": {},
   "outputs": [],
   "source": [
    "# pip install -U river"
   ]
  },
  {
   "cell_type": "code",
   "execution_count": 32,
   "id": "19179853",
   "metadata": {},
   "outputs": [],
   "source": [
    "import pandas as pd\n",
    "import numpy as np\n",
    "from pprint import pprint\n",
    "import river"
   ]
  },
  {
   "cell_type": "code",
   "execution_count": 26,
   "id": "89194bde",
   "metadata": {},
   "outputs": [],
   "source": [
    "#Method\n",
    "# dir(river)"
   ]
  },
  {
   "cell_type": "code",
   "execution_count": 39,
   "id": "1a8fa66f",
   "metadata": {},
   "outputs": [],
   "source": [
    "from river import datasets\n",
    "from river import drift\n",
    "from river import evaluate\n",
    "from river import compose\n",
    "from river import linear_model\n",
    "from river import metrics\n",
    "from river import preprocessing\n",
    "from river import naive_bayes"
   ]
  },
  {
   "cell_type": "code",
   "execution_count": 50,
   "id": "6bf5c624",
   "metadata": {},
   "outputs": [],
   "source": [
    "import matplotlib.pyplot as plt\n",
    "from matplotlib import gridspec"
   ]
  },
  {
   "cell_type": "code",
   "execution_count": 40,
   "id": "b9843218",
   "metadata": {},
   "outputs": [],
   "source": [
    "# Load the Electricity Market dataset\n",
    "dataset = datasets.Elec2()"
   ]
  },
  {
   "cell_type": "code",
   "execution_count": 41,
   "id": "059a858e",
   "metadata": {},
   "outputs": [
    {
     "name": "stdout",
     "output_type": "stream",
     "text": [
      "{'date': 0.0,\n",
      " 'day': 2,\n",
      " 'nswdemand': 0.439155,\n",
      " 'nswprice': 0.056443,\n",
      " 'period': 0.0,\n",
      " 'transfer': 0.414912,\n",
      " 'vicdemand': 0.422915,\n",
      " 'vicprice': 0.003467}\n",
      "True\n"
     ]
    }
   ],
   "source": [
    "for x, y in dataset:\n",
    "    pprint(x)\n",
    "    print(y)\n",
    "    break"
   ]
  },
  {
   "cell_type": "code",
   "execution_count": 42,
   "id": "5373837b",
   "metadata": {},
   "outputs": [],
   "source": [
    "# Define a model\n",
    "model = preprocessing.StandardScaler()\n",
    "model |= naive_bayes.GaussianNB()\n",
    "model |= drift.ADWIN()"
   ]
  },
  {
   "cell_type": "code",
   "execution_count": 44,
   "id": "5afeb977",
   "metadata": {},
   "outputs": [],
   "source": [
    "model = compose.Pipeline(\n",
    "            preprocessing.StandardScaler(),\n",
    "            linear_model.LogisticRegression()\n",
    "        )"
   ]
  },
  {
   "cell_type": "code",
   "execution_count": 45,
   "id": "ab7cccad",
   "metadata": {},
   "outputs": [],
   "source": [
    "# Define metric\n",
    "metric = metrics.Accuracy()"
   ]
  },
  {
   "cell_type": "code",
   "execution_count": 48,
   "id": "919e45af",
   "metadata": {},
   "outputs": [],
   "source": [
    "# Process and evaluate the stream\n",
    "for x, y in dataset.take(20000):  # Take first 20,000 instances for demonstration\n",
    "#     pprint(x)\n",
    "    \n",
    "    # Make a prediction\n",
    "    y_pred = model.predict_one(x)\n",
    "\n",
    "#     # Update the model and metric\n",
    "    model = model.learn_one(x, y)\n",
    "    metric = metric.update(y, y_pred)\n",
    "\n",
    "#     # Check for drift\n",
    "#     if model.drift_detector.change_detected:\n",
    "#         print(f\"Change detected at index {dataset.n_samples} - Resetting model\")\n",
    "#         model.drift_detector.reset()"
   ]
  },
  {
   "cell_type": "code",
   "execution_count": 49,
   "id": "d0fc5b4e",
   "metadata": {},
   "outputs": [
    {
     "data": {
      "text/plain": [
       "Accuracy: 70.99%"
      ]
     },
     "execution_count": 49,
     "metadata": {},
     "output_type": "execute_result"
    }
   ],
   "source": [
    "metric"
   ]
  },
  {
   "cell_type": "code",
   "execution_count": null,
   "id": "5fda2e09",
   "metadata": {},
   "outputs": [],
   "source": []
  }
 ],
 "metadata": {
  "kernelspec": {
   "display_name": "Python 3 (ipykernel)",
   "language": "python",
   "name": "python3"
  },
  "language_info": {
   "codemirror_mode": {
    "name": "ipython",
    "version": 3
   },
   "file_extension": ".py",
   "mimetype": "text/x-python",
   "name": "python",
   "nbconvert_exporter": "python",
   "pygments_lexer": "ipython3",
   "version": "3.11.5"
  }
 },
 "nbformat": 4,
 "nbformat_minor": 5
}
