{
 "cells": [
  {
   "cell_type": "code",
   "execution_count": 59,
   "id": "302c0b84",
   "metadata": {},
   "outputs": [],
   "source": [
    "import pandas as pd\n",
    "import numpy as np\n",
    "import matplotlib.pyplot as plt\n",
    "import seaborn as sns\n",
    "from sklearn.model_selection import train_test_split\n",
    "from sklearn.metrics import classification_report,confusion_matrix,accuracy_score, precision_score, recall_score, f1_score\n",
    "import time"
   ]
  },
  {
   "cell_type": "code",
   "execution_count": 60,
   "id": "2ea109c6",
   "metadata": {},
   "outputs": [],
   "source": [
    "def get_data():\n",
    "    df = pd.read_csv(\"rt_8873985678962563_abrupto.csv\")\n",
    "    return df[['X1', 'X2']], df['class']"
   ]
  },
  {
   "cell_type": "code",
   "execution_count": 61,
   "id": "ef04d1de",
   "metadata": {},
   "outputs": [],
   "source": [
    "# Load the dataset\n",
    "X, y = get_data()\n",
    "\n",
    "# Split the data into training and testing sets\n",
    "X_train, X_test, y_train, y_test = train_test_split(X, y, test_size=0.3, random_state=42)"
   ]
  },
  {
   "cell_type": "code",
   "execution_count": 62,
   "id": "9e9b8e1e",
   "metadata": {},
   "outputs": [],
   "source": [
    "# Import the online learning metrics and algorithms from the River library\n",
    "from river import metrics\n",
    "from river import stream\n",
    "from river import tree,neighbors,naive_bayes,ensemble,linear_model\n",
    "from river.drift import ADWIN\n",
    "from river.drift.binary import DDM, EDDM\n",
    "from river import forest"
   ]
  },
  {
   "cell_type": "code",
   "execution_count": 63,
   "id": "10164201",
   "metadata": {},
   "outputs": [],
   "source": [
    "# Define a generic adaptive learning function\n",
    "# The argument \"model\" means an online adaptive learning algorithm\n",
    "def adaptive_learning(model, X_train, y_train, X_test, y_test):\n",
    "    metric = metrics.Accuracy() # Use accuracy as the metric\n",
    "    i = 0 # count the number of evaluated data points\n",
    "    t = [] # record the number of evaluated data points\n",
    "    m = [] # record the real-time accuracy\n",
    "    yt = [] # record all the true labels of the test set\n",
    "    yp = [] # record all the predicted labels of the test set\n",
    "    \n",
    "    eddm = EDDM()\n",
    "    \n",
    "    # Learn the training set\n",
    "    for xi1, yi1 in stream.iter_pandas(X_train, y_train):\n",
    "        model.learn_one(xi1,yi1) \n",
    "\n",
    "    # Predict the test set\n",
    "    for xi, yi in stream.iter_pandas(X_test, y_test):\n",
    "        y_pred= model.predict_one(xi)  # Predict the test sample\n",
    "        model.learn_one(xi,yi) # Learn the test sample\n",
    "        print(\"yi: \"+ yi)\n",
    "        print(\"y_pred: \"+ y_pred)\n",
    "        metric = metric.update(yi, y_pred) # Update the real-time accuracy\n",
    "        \n",
    "        #drift_detection part\n",
    "        val = 0\n",
    "        if yi != y_pred:\n",
    "            val = 1 \n",
    "        in_drift = eddm.update(float(val))\n",
    "        if in_drift:\n",
    "            print(f\"Change detected at index {i}\")\n",
    "        \n",
    "        t.append(i)\n",
    "        print(\"metric: \"+ metric);\n",
    "        m.append(metric*100)\n",
    "        yt.append(yi)\n",
    "        yp.append(y_pred)\n",
    "        i = i+1\n",
    "    print(\"Accuracy: \"+str(round(accuracy_score(yt,yp),4)*100)+\"%\")\n",
    "    print(\"Precision: \"+str(round(precision_score(yt,yp),4)*100)+\"%\")\n",
    "    print(\"Recall: \"+str(round(recall_score(yt,yp),4)*100)+\"%\")\n",
    "    print(\"F1-score: \"+str(round(f1_score(yt,yp),4)*100)+\"%\")\n",
    "    return t, m"
   ]
  },
  {
   "cell_type": "code",
   "execution_count": 64,
   "id": "6db6f15f",
   "metadata": {},
   "outputs": [],
   "source": [
    "# Define a figure function that shows the real-time accuracy changes\n",
    "def acc_fig(t, m, name):\n",
    "    plt.rcParams.update({'font.size': 15})\n",
    "    plt.figure(1,figsize=(10,6)) \n",
    "    sns.set_style(\"darkgrid\")\n",
    "    plt.clf() \n",
    "    plt.plot(t,m,'-b',label='Avg Accuracy: %.2f%%'%(m[-1]))\n",
    "\n",
    "    plt.legend(loc='best')\n",
    "    plt.title(name+' on CICIDS2017 dataset', fontsize=15)\n",
    "    plt.xlabel('Number of samples')\n",
    "    plt.ylabel('Accuracy (%)')\n",
    "\n",
    "    plt.draw()"
   ]
  },
  {
   "cell_type": "code",
   "execution_count": 65,
   "id": "5083421a",
   "metadata": {},
   "outputs": [
    {
     "name": "stdout",
     "output_type": "stream",
     "text": [
      "None\n"
     ]
    },
    {
     "ename": "TypeError",
     "evalue": "unsupported operand type(s) for *: 'NoneType' and 'int'",
     "output_type": "error",
     "traceback": [
      "\u001b[1;31m---------------------------------------------------------------------------\u001b[0m",
      "\u001b[1;31mTypeError\u001b[0m                                 Traceback (most recent call last)",
      "File \u001b[1;32m<timed exec>:4\u001b[0m\n",
      "Cell \u001b[1;32mIn[63], line 33\u001b[0m, in \u001b[0;36madaptive_learning\u001b[1;34m(model, X_train, y_train, X_test, y_test)\u001b[0m\n\u001b[0;32m     31\u001b[0m t\u001b[38;5;241m.\u001b[39mappend(i)\n\u001b[0;32m     32\u001b[0m \u001b[38;5;28mprint\u001b[39m(metric)\n\u001b[1;32m---> 33\u001b[0m m\u001b[38;5;241m.\u001b[39mappend(metric\u001b[38;5;241m*\u001b[39m\u001b[38;5;241m100\u001b[39m)\n\u001b[0;32m     34\u001b[0m yt\u001b[38;5;241m.\u001b[39mappend(yi)\n\u001b[0;32m     35\u001b[0m yp\u001b[38;5;241m.\u001b[39mappend(y_pred)\n",
      "\u001b[1;31mTypeError\u001b[0m: unsupported operand type(s) for *: 'NoneType' and 'int'"
     ]
    }
   ],
   "source": [
    "%%time\n",
    "# Use the Adaptive Random Forest (ARF) model with ADWIN drift detector as a baseline model\n",
    "name1 = \"ARF-ADWIN model\"\n",
    "model1 = forest.ARFClassifier(n_models = 3, drift_detector = ADWIN()) # Define the model\n",
    "t, m1 = adaptive_learning(model1, X_train, y_train, X_test, y_test) # Learn the model on the dataset\n",
    "acc_fig(t, m1, name1) # Draw the figure of how the real-time accuracy changes with the number of samples"
   ]
  }
 ],
 "metadata": {
  "kernelspec": {
   "display_name": "Python 3 (ipykernel)",
   "language": "python",
   "name": "python3"
  },
  "language_info": {
   "codemirror_mode": {
    "name": "ipython",
    "version": 3
   },
   "file_extension": ".py",
   "mimetype": "text/x-python",
   "name": "python",
   "nbconvert_exporter": "python",
   "pygments_lexer": "ipython3",
   "version": "3.11.5"
  }
 },
 "nbformat": 4,
 "nbformat_minor": 5
}
