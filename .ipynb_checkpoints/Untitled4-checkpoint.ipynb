{
 "cells": [
  {
   "cell_type": "code",
   "execution_count": 6,
   "id": "b84552d3",
   "metadata": {},
   "outputs": [],
   "source": [
    "import pandas as pd\n",
    "from river import naive_bayes, tree, metrics, drift\n",
    "from sklearn.model_selection import train_test_split\n",
    "import matplotlib.pyplot as plt"
   ]
  },
  {
   "cell_type": "code",
   "execution_count": 7,
   "id": "bc7327ef",
   "metadata": {},
   "outputs": [],
   "source": [
    "def get_data():\n",
    "    df = pd.read_csv(\"rt_8873985678962563_gradual.csv\")\n",
    "    return df[['X1', 'X2']], df['class']"
   ]
  },
  {
   "cell_type": "code",
   "execution_count": 8,
   "id": "ca0734a8",
   "metadata": {},
   "outputs": [],
   "source": [
    "# Load the dataset\n",
    "X, y = get_data()\n",
    "\n",
    "# Split the data into training and testing sets\n",
    "X_train, X_test, y_train, y_test = train_test_split(X, y, test_size=0.3, random_state=42)"
   ]
  },
  {
   "cell_type": "code",
   "execution_count": 9,
   "id": "04d0f4bc",
   "metadata": {},
   "outputs": [],
   "source": [
    "# Initialize drift detectors with a dictionary to store drift points\n",
    "drift_detectors = {\n",
    "    'ADWIN': {'detector': drift.ADWIN(), 'drifts': []},\n",
    "    'KSWIN': {'detector': drift.KSWIN(), 'drifts': []},\n",
    "    'DummyDriftDetector': {'detector': drift.DummyDriftDetector(), 'drifts': []},\n",
    "    'PageHinkley': {'detector': drift.PageHinkley(), 'drifts': []}\n",
    "}\n",
    "\n",
    "# Initialize base learners\n",
    "base_learners = {\n",
    "    'Naive Bayes': naive_bayes.GaussianNB(),\n",
    "    'Hoeffding Tree': tree.HoeffdingTreeClassifier()\n",
    "}\n",
    "\n",
    "# Initialize metrics\n",
    "metrics_dict = {name: {'accuracy': metrics.Accuracy(), 'auc': metrics.ROCAUC()} for name in base_learners}"
   ]
  },
  {
   "cell_type": "code",
   "execution_count": 16,
   "id": "3e224e0c",
   "metadata": {},
   "outputs": [
    {
     "name": "stdout",
     "output_type": "stream",
     "text": [
      "Evaluating Naive Bayes with ADWIN:\n",
      "accuracy: 0.6556585365853659\n",
      "auc: 0.653215604480565\n",
      "Evaluating Hoeffding Tree with ADWIN:\n",
      "accuracy: 0.6770487804878049\n",
      "auc: 0.6760132511839498\n",
      "Evaluating Naive Bayes with KSWIN:\n",
      "accuracy: 0.6556585365853659\n",
      "auc: 0.653215604480565\n",
      "Evaluating Hoeffding Tree with KSWIN:\n",
      "accuracy: 0.6770487804878049\n",
      "auc: 0.6760132511839498\n",
      "Evaluating Naive Bayes with DummyDriftDetector:\n",
      "accuracy: 0.6556585365853659\n",
      "auc: 0.653215604480565\n",
      "Evaluating Hoeffding Tree with DummyDriftDetector:\n",
      "accuracy: 0.6770487804878049\n",
      "auc: 0.6760132511839498\n",
      "Evaluating Naive Bayes with PageHinkley:\n",
      "accuracy: 0.6556585365853659\n",
      "auc: 0.653215604480565\n",
      "Evaluating Hoeffding Tree with PageHinkley:\n",
      "accuracy: 0.6770487804878049\n",
      "auc: 0.6760132511839498\n"
     ]
    },
    {
     "ename": "InvalidIndexError",
     "evalue": "(slice(None, None, None), 'X1')",
     "output_type": "error",
     "traceback": [
      "\u001b[1;31m---------------------------------------------------------------------------\u001b[0m",
      "\u001b[1;31mTypeError\u001b[0m                                 Traceback (most recent call last)",
      "File \u001b[1;32m~\\anaconda3\\Lib\\site-packages\\pandas\\core\\indexes\\base.py:3790\u001b[0m, in \u001b[0;36mIndex.get_loc\u001b[1;34m(self, key)\u001b[0m\n\u001b[0;32m   3789\u001b[0m \u001b[38;5;28;01mtry\u001b[39;00m:\n\u001b[1;32m-> 3790\u001b[0m     \u001b[38;5;28;01mreturn\u001b[39;00m \u001b[38;5;28mself\u001b[39m\u001b[38;5;241m.\u001b[39m_engine\u001b[38;5;241m.\u001b[39mget_loc(casted_key)\n\u001b[0;32m   3791\u001b[0m \u001b[38;5;28;01mexcept\u001b[39;00m \u001b[38;5;167;01mKeyError\u001b[39;00m \u001b[38;5;28;01mas\u001b[39;00m err:\n",
      "File \u001b[1;32mindex.pyx:152\u001b[0m, in \u001b[0;36mpandas._libs.index.IndexEngine.get_loc\u001b[1;34m()\u001b[0m\n",
      "File \u001b[1;32mindex.pyx:158\u001b[0m, in \u001b[0;36mpandas._libs.index.IndexEngine.get_loc\u001b[1;34m()\u001b[0m\n",
      "\u001b[1;31mTypeError\u001b[0m: '(slice(None, None, None), 'X1')' is an invalid key",
      "\nDuring handling of the above exception, another exception occurred:\n",
      "\u001b[1;31mInvalidIndexError\u001b[0m                         Traceback (most recent call last)",
      "Cell \u001b[1;32mIn[16], line 79\u001b[0m\n\u001b[0;32m     53\u001b[0m \u001b[38;5;66;03m# Plotting function\u001b[39;00m\n\u001b[0;32m     54\u001b[0m \u001b[38;5;66;03m# def plot_drifts(X, drift_points, title):\u001b[39;00m\n\u001b[0;32m     55\u001b[0m \u001b[38;5;66;03m#     plt.figure(figsize=(12, 6))\u001b[39;00m\n\u001b[1;32m   (...)\u001b[0m\n\u001b[0;32m     76\u001b[0m \n\u001b[0;32m     77\u001b[0m \u001b[38;5;66;03m# Plot drifts for each detector\u001b[39;00m\n\u001b[0;32m     78\u001b[0m \u001b[38;5;28;01mfor\u001b[39;00m drift_name, drift_info \u001b[38;5;129;01min\u001b[39;00m drift_detectors\u001b[38;5;241m.\u001b[39mitems():\n\u001b[1;32m---> 79\u001b[0m     plot_drifts(X, drift_info[\u001b[38;5;124m'\u001b[39m\u001b[38;5;124mdrifts\u001b[39m\u001b[38;5;124m'\u001b[39m], \u001b[38;5;124mf\u001b[39m\u001b[38;5;124m\"\u001b[39m\u001b[38;5;124mDrifts detected by \u001b[39m\u001b[38;5;132;01m{\u001b[39;00mdrift_name\u001b[38;5;132;01m}\u001b[39;00m\u001b[38;5;124m\"\u001b[39m)\n",
      "Cell \u001b[1;32mIn[16], line 46\u001b[0m, in \u001b[0;36mplot_drifts\u001b[1;34m(X, drift_points, title)\u001b[0m\n\u001b[0;32m     44\u001b[0m \u001b[38;5;28;01mdef\u001b[39;00m \u001b[38;5;21mplot_drifts\u001b[39m(X, drift_points, title):\n\u001b[0;32m     45\u001b[0m     plt\u001b[38;5;241m.\u001b[39msubplot(\u001b[38;5;241m1\u001b[39m, X\u001b[38;5;241m.\u001b[39mshape[\u001b[38;5;241m1\u001b[39m], \u001b[38;5;241m1\u001b[39m)\n\u001b[1;32m---> 46\u001b[0m     plt\u001b[38;5;241m.\u001b[39mplot(X[:, \u001b[38;5;124m'\u001b[39m\u001b[38;5;124mX1\u001b[39m\u001b[38;5;124m'\u001b[39m], label\u001b[38;5;241m=\u001b[39m\u001b[38;5;124mf\u001b[39m\u001b[38;5;124m'\u001b[39m\u001b[38;5;124mX1\u001b[39m\u001b[38;5;124m'\u001b[39m)\n\u001b[0;32m     47\u001b[0m     \u001b[38;5;28;01mif\u001b[39;00m drift_points:\n\u001b[0;32m     48\u001b[0m         \u001b[38;5;28;01mfor\u001b[39;00m d \u001b[38;5;129;01min\u001b[39;00m drift_points:\n",
      "File \u001b[1;32m~\\anaconda3\\Lib\\site-packages\\pandas\\core\\frame.py:3896\u001b[0m, in \u001b[0;36mDataFrame.__getitem__\u001b[1;34m(self, key)\u001b[0m\n\u001b[0;32m   3894\u001b[0m \u001b[38;5;28;01mif\u001b[39;00m \u001b[38;5;28mself\u001b[39m\u001b[38;5;241m.\u001b[39mcolumns\u001b[38;5;241m.\u001b[39mnlevels \u001b[38;5;241m>\u001b[39m \u001b[38;5;241m1\u001b[39m:\n\u001b[0;32m   3895\u001b[0m     \u001b[38;5;28;01mreturn\u001b[39;00m \u001b[38;5;28mself\u001b[39m\u001b[38;5;241m.\u001b[39m_getitem_multilevel(key)\n\u001b[1;32m-> 3896\u001b[0m indexer \u001b[38;5;241m=\u001b[39m \u001b[38;5;28mself\u001b[39m\u001b[38;5;241m.\u001b[39mcolumns\u001b[38;5;241m.\u001b[39mget_loc(key)\n\u001b[0;32m   3897\u001b[0m \u001b[38;5;28;01mif\u001b[39;00m is_integer(indexer):\n\u001b[0;32m   3898\u001b[0m     indexer \u001b[38;5;241m=\u001b[39m [indexer]\n",
      "File \u001b[1;32m~\\anaconda3\\Lib\\site-packages\\pandas\\core\\indexes\\base.py:3802\u001b[0m, in \u001b[0;36mIndex.get_loc\u001b[1;34m(self, key)\u001b[0m\n\u001b[0;32m   3797\u001b[0m     \u001b[38;5;28;01mraise\u001b[39;00m \u001b[38;5;167;01mKeyError\u001b[39;00m(key) \u001b[38;5;28;01mfrom\u001b[39;00m \u001b[38;5;21;01merr\u001b[39;00m\n\u001b[0;32m   3798\u001b[0m \u001b[38;5;28;01mexcept\u001b[39;00m \u001b[38;5;167;01mTypeError\u001b[39;00m:\n\u001b[0;32m   3799\u001b[0m     \u001b[38;5;66;03m# If we have a listlike key, _check_indexing_error will raise\u001b[39;00m\n\u001b[0;32m   3800\u001b[0m     \u001b[38;5;66;03m#  InvalidIndexError. Otherwise we fall through and re-raise\u001b[39;00m\n\u001b[0;32m   3801\u001b[0m     \u001b[38;5;66;03m#  the TypeError.\u001b[39;00m\n\u001b[1;32m-> 3802\u001b[0m     \u001b[38;5;28mself\u001b[39m\u001b[38;5;241m.\u001b[39m_check_indexing_error(key)\n\u001b[0;32m   3803\u001b[0m     \u001b[38;5;28;01mraise\u001b[39;00m\n",
      "File \u001b[1;32m~\\anaconda3\\Lib\\site-packages\\pandas\\core\\indexes\\base.py:5974\u001b[0m, in \u001b[0;36mIndex._check_indexing_error\u001b[1;34m(self, key)\u001b[0m\n\u001b[0;32m   5970\u001b[0m \u001b[38;5;28;01mdef\u001b[39;00m \u001b[38;5;21m_check_indexing_error\u001b[39m(\u001b[38;5;28mself\u001b[39m, key):\n\u001b[0;32m   5971\u001b[0m     \u001b[38;5;28;01mif\u001b[39;00m \u001b[38;5;129;01mnot\u001b[39;00m is_scalar(key):\n\u001b[0;32m   5972\u001b[0m         \u001b[38;5;66;03m# if key is not a scalar, directly raise an error (the code below\u001b[39;00m\n\u001b[0;32m   5973\u001b[0m         \u001b[38;5;66;03m# would convert to numpy arrays and raise later any way) - GH29926\u001b[39;00m\n\u001b[1;32m-> 5974\u001b[0m         \u001b[38;5;28;01mraise\u001b[39;00m InvalidIndexError(key)\n",
      "\u001b[1;31mInvalidIndexError\u001b[0m: (slice(None, None, None), 'X1')"
     ]
    },
    {
     "data": {
      "image/png": "[encoded data removed]",
      "text/plain": [
       "<Figure size 640x480 with 1 Axes>"
      ]
     },
     "metadata": {},
     "output_type": "display_data"
    }
   ],
   "source": [
    "\n",
    "# In the train_and_evaluate function, record drift points\n",
    "def train_and_evaluate(base_learner_name, base_learner, drift_detector, drift_points):\n",
    "    # Reset base learner and metrics\n",
    "    # Reset base learner and metrics\n",
    "    model = base_learner.clone()\n",
    "    model_metrics = {metric_name: metric.clone() for metric_name, metric in metrics_dict[base_learner_name].items()}\n",
    "\n",
    "    # Training\n",
    "    for i, (x, y_true) in enumerate(zip(X_train.to_dict(orient='records'), y_train)):\n",
    "        # Update drift detector and check for drift\n",
    "        drift_response = drift_detector.update(y_true)\n",
    "        in_drift = drift_response[0] if drift_response is not None else False\n",
    "\n",
    "        if in_drift:\n",
    "            # Record drift point\n",
    "            drift_points.append(i)\n",
    "            # Reset model on drift detection\n",
    "            model = base_learner.clone()\n",
    "\n",
    "       # Train model\n",
    "        model.learn_one(x, y_true)\n",
    "\n",
    "        # Update metrics\n",
    "        for metric in model_metrics.values():\n",
    "            metric.update(y_true, model.predict_one(x))\n",
    "\n",
    "    # Testing\n",
    "    for x, y_true in zip(X_test.to_dict(orient='records'), y_test):\n",
    "        for metric in model_metrics.values():\n",
    "            metric.update(y_true, model.predict_one(x))\n",
    "\n",
    "    return model_metrics\n",
    "\n",
    "# Modify the evaluation loop to record drift points\n",
    "for drift_name, drift_info in drift_detectors.items():\n",
    "    for learner_name, learner in base_learners.items():\n",
    "        print(f\"Evaluating {learner_name} with {drift_name}:\")\n",
    "        evaluated_metrics = train_and_evaluate(learner_name, learner, drift_info['detector'].clone(), drift_info['drifts'])\n",
    "        for metric_name, metric in evaluated_metrics.items():\n",
    "            print(f\"{metric_name}: {metric.get()}\")\n",
    "\n",
    "            \n",
    "# Plotting function\n",
    "def plot_drifts(X, drift_points, title):\n",
    "    plt.subplot(1, X.shape[1], 1)\n",
    "    plt.plot(X['X1'], label=f'X1')\n",
    "    if drift_points:\n",
    "        for d in drift_points:\n",
    "            plt.axvline(d, color='red')\n",
    "    plt.legend()\n",
    "    plt.show()          \n",
    "            \n",
    "# Plotting function\n",
    "# def plot_drifts(X, drift_points, title):\n",
    "#     plt.figure(figsize=(12, 6))\n",
    "#     plt.scatter(X['X1'], X['X2'], alpha=0.5)\n",
    "#     for drift_point in drift_points:\n",
    "#         plt.axvline(x=drift_point, color='red', linestyle='--')\n",
    "#     plt.xlabel('X1')\n",
    "#     plt.ylabel('X2')\n",
    "#     plt.title(title)\n",
    "#     plt.show()\n",
    "    \n",
    "    \n",
    "# Plotting function for the data\n",
    "# def plot_data(X, drifts):\n",
    "#     plt.figure(figsize=(12, 6))\n",
    "#     for i in range(X.shape[1]):\n",
    "#         plt.subplot(1, X.shape[1], i+1)\n",
    "#         plt.plot(X[:, i], label=f'Feature {i+1}')\n",
    "#         if drifts[i]:\n",
    "#             for d in drifts[i]:\n",
    "#                 plt.axvline(d, color='red')\n",
    "#         plt.legend()\n",
    "#     plt.show()\n",
    "\n",
    "# Plot drifts for each detector\n",
    "for drift_name, drift_info in drift_detectors.items():\n",
    "    plot_drifts(X, drift_info['drifts'], f\"Drifts detected by {drift_name}\")\n"
   ]
  },
  {
   "cell_type": "code",
   "execution_count": null,
   "id": "fead9cab",
   "metadata": {},
   "outputs": [],
   "source": []
  }
 ],
 "metadata": {
  "kernelspec": {
   "display_name": "Python 3 (ipykernel)",
   "language": "python",
   "name": "python3"
  },
  "language_info": {
   "codemirror_mode": {
    "name": "ipython",
    "version": 3
   },
   "file_extension": ".py",
   "mimetype": "text/x-python",
   "name": "python",
   "nbconvert_exporter": "python",
   "pygments_lexer": "ipython3",
   "version": "3.11.5"
  }
 },
 "nbformat": 4,
 "nbformat_minor": 5
}
