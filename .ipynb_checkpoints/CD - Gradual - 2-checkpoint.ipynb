{
 "cells": [
  {
   "cell_type": "code",
   "execution_count": 7,
   "id": "f02270a5",
   "metadata": {},
   "outputs": [],
   "source": [
    "import pandas as pd\n",
    "from river import naive_bayes, tree, metrics, drift\n",
    "from sklearn.model_selection import train_test_split"
   ]
  },
  {
   "cell_type": "code",
   "execution_count": 8,
   "id": "4bccac26",
   "metadata": {},
   "outputs": [],
   "source": [
    "def get_data():\n",
    "    df = pd.read_csv(\"dataverse/rt_8873985678962563_abrupto.csv\")\n",
    "    return df[['X1', 'X2']], df['class']"
   ]
  },
  {
   "cell_type": "code",
   "execution_count": 9,
   "id": "1f6c4abc",
   "metadata": {},
   "outputs": [],
   "source": [
    "# Load the dataset\n",
    "X, y = get_data()\n",
    "\n",
    "# Split the data into training and testing sets\n",
    "X_train, X_test, y_train, y_test = train_test_split(X, y, test_size=0.3, random_state=42)"
   ]
  },
  {
   "cell_type": "code",
   "execution_count": 10,
   "id": "8bf5a6e7",
   "metadata": {},
   "outputs": [],
   "source": [
    "# Initialize drift detectors\n",
    "drift_detectors = {\n",
    "    'ADWIN': drift.ADWIN(),\n",
    "    'KSWIN': drift.KSWIN(),\n",
    "    'DDM': drift.binary.DDM(),\n",
    "    'EDDM': drift.binary.EDDM(),\n",
    "    'PageHinkley': drift.PageHinkley()\n",
    "}\n",
    "\n",
    "# Initialize base learners\n",
    "base_learners = {\n",
    "    'Naive Bayes': naive_bayes.GaussianNB(),\n",
    "    'Hoeffding Tree': tree.HoeffdingTreeClassifier()\n",
    "}\n",
    "\n",
    "# Initialize metrics\n",
    "metrics_dict = {name: {'accuracy': metrics.Accuracy(), 'auc': metrics.ROCAUC()} for name in base_learners}"
   ]
  },
  {
   "cell_type": "code",
   "execution_count": 11,
   "id": "de29cf21",
   "metadata": {},
   "outputs": [],
   "source": [
    "\n",
    "# Function to train and test models with different drift detectors\n",
    "def train_and_evaluate(base_learner_name, base_learner, drift_detector):\n",
    "    # Reset base learner and metrics\n",
    "    model = base_learner.clone()\n",
    "    model_metrics = {metric_name: metric.clone() for metric_name, metric in metrics_dict[base_learner_name].items()}\n",
    "\n",
    "    # Training\n",
    "    for x, y_true in zip(X_train.to_dict(orient='records'), y_train):\n",
    "        # Update drift detector and check for drift\n",
    "        drift_response = drift_detector.update(y_true)\n",
    "\n",
    "        # Check for drift based on detector type\n",
    "        in_drift = drift_response[0] if drift_response is not None else False\n",
    "\n",
    "        if in_drift:\n",
    "            # Reset model on drift detection\n",
    "            model = base_learner.clone()\n",
    "\n",
    "        # Train model\n",
    "        model.learn_one(x, y_true)\n",
    "\n",
    "        # Update metrics\n",
    "        for metric in model_metrics.values():\n",
    "            metric.update(y_true, model.predict_one(x))\n",
    "\n",
    "    # Testing\n",
    "    for x, y_true in zip(X_test.to_dict(orient='records'), y_test):\n",
    "        for metric in model_metrics.values():\n",
    "            metric.update(y_true, model.predict_one(x))\n",
    "\n",
    "    return model_metrics\n",
    "\n"
   ]
  },
  {
   "cell_type": "code",
   "execution_count": 12,
   "id": "880ee99f",
   "metadata": {},
   "outputs": [
    {
     "name": "stdout",
     "output_type": "stream",
     "text": [
      "Evaluating Naive Bayes with ADWIN:\n",
      "accuracy: 0.656725\n",
      "auc: 0.654661007428267\n",
      "Evaluating Hoeffding Tree with ADWIN:\n",
      "accuracy: 0.67975\n",
      "auc: 0.6786962489427549\n",
      "Evaluating Naive Bayes with KSWIN:\n",
      "accuracy: 0.656725\n",
      "auc: 0.654661007428267\n",
      "Evaluating Hoeffding Tree with KSWIN:\n",
      "accuracy: 0.67975\n",
      "auc: 0.6786962489427549\n",
      "Evaluating Naive Bayes with DDM:\n",
      "accuracy: 0.656725\n",
      "auc: 0.654661007428267\n",
      "Evaluating Hoeffding Tree with DDM:\n",
      "accuracy: 0.67975\n",
      "auc: 0.6786962489427549\n",
      "Evaluating Naive Bayes with EDDM:\n",
      "accuracy: 0.656725\n",
      "auc: 0.654661007428267\n",
      "Evaluating Hoeffding Tree with EDDM:\n",
      "accuracy: 0.67975\n",
      "auc: 0.6786962489427549\n",
      "Evaluating Naive Bayes with PageHinkley:\n",
      "accuracy: 0.656725\n",
      "auc: 0.654661007428267\n",
      "Evaluating Hoeffding Tree with PageHinkley:\n",
      "accuracy: 0.67975\n",
      "auc: 0.6786962489427549\n"
     ]
    }
   ],
   "source": [
    "\n",
    "# Evaluate each combination of base learner and drift detector\n",
    "for drift_name, drift_detector in drift_detectors.items():\n",
    "    for learner_name, learner in base_learners.items():\n",
    "        print(f\"Evaluating {learner_name} with {drift_name}:\")\n",
    "        evaluated_metrics = train_and_evaluate(learner_name, learner, drift_detector.clone())\n",
    "        for metric_name, metric in evaluated_metrics.items():\n",
    "            print(f\"{metric_name}: {metric.get()}\")\n"
   ]
  },
  {
   "cell_type": "code",
   "execution_count": null,
   "id": "f398fadd",
   "metadata": {},
   "outputs": [],
   "source": []
  }
 ],
 "metadata": {
  "kernelspec": {
   "display_name": "Python 3 (ipykernel)",
   "language": "python",
   "name": "python3"
  },
  "language_info": {
   "codemirror_mode": {
    "name": "ipython",
    "version": 3
   },
   "file_extension": ".py",
   "mimetype": "text/x-python",
   "name": "python",
   "nbconvert_exporter": "python",
   "pygments_lexer": "ipython3",
   "version": "3.11.5"
  }
 },
 "nbformat": 4,
 "nbformat_minor": 5
}
