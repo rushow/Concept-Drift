{
 "cells": [
  {
   "cell_type": "code",
   "execution_count": 5,
   "id": "df1d43cd",
   "metadata": {},
   "outputs": [],
   "source": [
    "from river import drift, metrics, tree, ensemble\n",
    "from river.evaluate import progressive_val_score\n",
    "import numpy as np"
   ]
  },
  {
   "cell_type": "code",
   "execution_count": 6,
   "id": "f0f00ad3",
   "metadata": {},
   "outputs": [
    {
     "ename": "SyntaxError",
     "evalue": "expected 'else' after 'if' expression (718510223.py, line 13)",
     "output_type": "error",
     "traceback": [
      "\u001b[1;36m  Cell \u001b[1;32mIn[6], line 13\u001b[1;36m\u001b[0m\n\u001b[1;33m    y = 1 if (X1 + X2 > 1) if concept == 0 else (X1 + X2 < 1) else 0\u001b[0m\n\u001b[1;37m        ^\u001b[0m\n\u001b[1;31mSyntaxError\u001b[0m\u001b[1;31m:\u001b[0m expected 'else' after 'if' expression\n"
     ]
    }
   ],
   "source": [
    "\n",
    "\n",
    "# Generate synthetic dataset\n",
    "def generate_data(size=40000, drift_points=(10000, 20000, 30000), width=1000):\n",
    "    data = []\n",
    "    for i in range(size):\n",
    "        # Simulate abrupt drift\n",
    "        if i in range(drift_points[0], drift_points[0] + width):\n",
    "            concept = 1\n",
    "        else:\n",
    "            concept = 0\n",
    "\n",
    "        # Generate random data based on the current concept\n",
    "        X1, X2 = np.random.random(), np.random.random()\n",
    "        y = 1 if (X1 + X2 > 1) if concept == 0 else (X1 + X2 < 1) else 0\n",
    "        data.append(({'X1': X1, 'X2': X2}, y))\n",
    "    return data"
   ]
  },
  {
   "cell_type": "code",
   "execution_count": null,
   "id": "26dd9922",
   "metadata": {},
   "outputs": [],
   "source": [
    "# Constants for the synthetic dataset\n",
    "total_instances = 40000\n",
    "drift_positions = [10000, 20000, 30000]\n",
    "drift_width = 1000\n",
    "\n",
    "# Generating synthetic data for X1 and X2\n",
    "np.random.seed(0)  # For reproducibility\n",
    "X1 = np.random.rand(total_instances)\n",
    "X2 = np.random.rand(total_instances)\n",
    "\n",
    "# Function to apply drift to a variable\n",
    "def apply_drift(var, drift_pos, width):\n",
    "    start = max(0, drift_pos - width // 2)\n",
    "    end = min(total_instances, drift_pos + width // 2)\n",
    "    var[start:end] = 1 - var[start:end]\n",
    "\n",
    "# Applying drifts to X1 and X2\n",
    "for drift_pos in drift_positions:\n",
    "    apply_drift(X1, drift_pos, drift_width)\n",
    "    apply_drift(X2, drift_pos, drift_width)\n",
    "\n",
    "# Generating class labels (0 or 1) with drifts\n",
    "class_labels = np.zeros(total_instances, dtype=int)\n",
    "for i, drift_pos in enumerate(drift_positions + [total_instances]):\n",
    "    start = drift_positions[i - 1] if i > 0 else 0\n",
    "    end = drift_pos\n",
    "    class_labels[start:end] = i % 2"
   ]
  },
  {
   "cell_type": "code",
   "execution_count": null,
   "id": "1dba0a5b",
   "metadata": {},
   "outputs": [],
   "source": [
    "\n",
    "\n",
    "data_stream = generate_data()\n",
    "\n",
    "# Define drift detectors\n",
    "detectors = {\n",
    "    'ADWIN': drift.ADWIN(),\n",
    "    'DDM': drift.DDM(),\n",
    "    'EDDM': drift.EDDM(),\n",
    "    'Page-Hinkley': drift.PageHinkley()\n",
    "}\n",
    "\n",
    "# Define base learners\n",
    "learners = {\n",
    "    'Decision Tree': tree.HoeffdingTreeClassifier(),\n",
    "    'Random Forest': ensemble.AdaptiveRandomForestClassifier()\n",
    "}\n",
    "\n",
    "# Evaluation\n",
    "for learner_name, learner in learners.items():\n",
    "    for detector_name, detector in detectors.items():\n",
    "        metric = metrics.ROCAUC()\n",
    "        for X, y in data_stream:\n",
    "            # Predict\n",
    "            y_pred = learner.predict_one(X)\n",
    "            metric = metric.update(y, y_pred)\n",
    "            \n",
    "            # Train\n",
    "            learner = learner.learn_one(X, y)\n",
    "            \n",
    "            # Check for drift\n",
    "            in_drift, in_warning = detector.update(y_pred == y)\n",
    "            if in_drift:\n",
    "                learner.reset()  # Reset the model in case of drift\n",
    "\n",
    "        print(f\"{learner_name} with {detector_name}: AUC: {metric.get()}\")\n"
   ]
  }
 ],
 "metadata": {
  "kernelspec": {
   "display_name": "Python 3 (ipykernel)",
   "language": "python",
   "name": "python3"
  },
  "language_info": {
   "codemirror_mode": {
    "name": "ipython",
    "version": 3
   },
   "file_extension": ".py",
   "mimetype": "text/x-python",
   "name": "python",
   "nbconvert_exporter": "python",
   "pygments_lexer": "ipython3",
   "version": "3.11.5"
  }
 },
 "nbformat": 4,
 "nbformat_minor": 5
}
