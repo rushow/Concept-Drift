{
 "cells": [
  {
   "cell_type": "code",
   "execution_count": 4,
   "id": "78ce114f",
   "metadata": {},
   "outputs": [],
   "source": [
    "import random\n",
    "from river.datasets import synth\n",
    "# from river import synth\n",
    "from river import naive_bayes\n",
    "from river import tree\n",
    "from river import metrics\n",
    "from river import drift\n",
    "from river import evaluate"
   ]
  },
  {
   "cell_type": "code",
   "execution_count": 5,
   "id": "7542993a",
   "metadata": {},
   "outputs": [
    {
     "ename": "TypeError",
     "evalue": "STAGGER.__init__() got an unexpected keyword argument 'concepts'",
     "output_type": "error",
     "traceback": [
      "\u001b[1;31m---------------------------------------------------------------------------\u001b[0m",
      "\u001b[1;31mTypeError\u001b[0m                                 Traceback (most recent call last)",
      "Cell \u001b[1;32mIn[5], line 14\u001b[0m\n\u001b[0;32m     10\u001b[0m adwin \u001b[38;5;241m=\u001b[39m drift\u001b[38;5;241m.\u001b[39mADWIN()\n\u001b[0;32m     12\u001b[0m \u001b[38;5;66;03m# Create a synthetic data stream with concept drift\u001b[39;00m\n\u001b[0;32m     13\u001b[0m stream \u001b[38;5;241m=\u001b[39m synth\u001b[38;5;241m.\u001b[39mConceptDriftStream(\n\u001b[1;32m---> 14\u001b[0m     stream\u001b[38;5;241m=\u001b[39msynth\u001b[38;5;241m.\u001b[39mSTAGGER(\n\u001b[0;32m     15\u001b[0m         concepts\u001b[38;5;241m=\u001b[39m[(\u001b[38;5;241m0\u001b[39m, \u001b[38;5;241m0\u001b[39m, \u001b[38;5;241m0\u001b[39m), (\u001b[38;5;241m1\u001b[39m, \u001b[38;5;241m1\u001b[39m, \u001b[38;5;241m1\u001b[39m), (\u001b[38;5;241m0\u001b[39m, \u001b[38;5;241m1\u001b[39m, \u001b[38;5;241m1\u001b[39m)],\n\u001b[0;32m     16\u001b[0m         weights\u001b[38;5;241m=\u001b[39m[\u001b[38;5;241m0.5\u001b[39m, \u001b[38;5;241m0.5\u001b[39m, \u001b[38;5;241m0.5\u001b[39m],\n\u001b[0;32m     17\u001b[0m         seed\u001b[38;5;241m=\u001b[39m\u001b[38;5;241m42\u001b[39m\n\u001b[0;32m     18\u001b[0m     ),\n\u001b[0;32m     19\u001b[0m     drift_stream\u001b[38;5;241m=\u001b[39msynth\u001b[38;5;241m.\u001b[39mSTAGGER(\n\u001b[0;32m     20\u001b[0m         concepts\u001b[38;5;241m=\u001b[39m[(\u001b[38;5;241m1\u001b[39m, \u001b[38;5;241m1\u001b[39m, \u001b[38;5;241m1\u001b[39m), (\u001b[38;5;241m1\u001b[39m, \u001b[38;5;241m0\u001b[39m, \u001b[38;5;241m0\u001b[39m), (\u001b[38;5;241m0\u001b[39m, \u001b[38;5;241m1\u001b[39m, \u001b[38;5;241m1\u001b[39m)],\n\u001b[0;32m     21\u001b[0m         weights\u001b[38;5;241m=\u001b[39m[\u001b[38;5;241m0.5\u001b[39m, \u001b[38;5;241m0.5\u001b[39m, \u001b[38;5;241m0.5\u001b[39m],\n\u001b[0;32m     22\u001b[0m         seed\u001b[38;5;241m=\u001b[39m\u001b[38;5;241m42\u001b[39m\n\u001b[0;32m     23\u001b[0m     ),\n\u001b[0;32m     24\u001b[0m     position\u001b[38;5;241m=\u001b[39m\u001b[38;5;241m1000\u001b[39m,\n\u001b[0;32m     25\u001b[0m     width\u001b[38;5;241m=\u001b[39m\u001b[38;5;241m100\u001b[39m,\n\u001b[0;32m     26\u001b[0m     seed\u001b[38;5;241m=\u001b[39m\u001b[38;5;241m42\u001b[39m\n\u001b[0;32m     27\u001b[0m )\n\u001b[0;32m     29\u001b[0m \u001b[38;5;66;03m# Initialize metrics\u001b[39;00m\n\u001b[0;32m     30\u001b[0m metrics_nb \u001b[38;5;241m=\u001b[39m {\u001b[38;5;124m'\u001b[39m\u001b[38;5;124mAccuracy\u001b[39m\u001b[38;5;124m'\u001b[39m: metrics\u001b[38;5;241m.\u001b[39mAccuracy(), \u001b[38;5;124m'\u001b[39m\u001b[38;5;124mAUC\u001b[39m\u001b[38;5;124m'\u001b[39m: metrics\u001b[38;5;241m.\u001b[39mROCAUC()}\n",
      "\u001b[1;31mTypeError\u001b[0m: STAGGER.__init__() got an unexpected keyword argument 'concepts'"
     ]
    }
   ],
   "source": [
    "\n",
    "\n",
    "# Set up a random number generator\n",
    "rng = random.Random(12345)\n",
    "\n",
    "# Initialize two different base learners\n",
    "nb = naive_bayes.MultinomialNB()  # Naive Bayes\n",
    "# ht = tree.HoeffdingTree()         # Hoeffding Tree\n",
    "ht = tree.HoeffdingTreeClassifier\n",
    "\n",
    "# Initialize ADWIN drift detector\n",
    "adwin = drift.ADWIN()\n",
    "\n",
    "# Create a synthetic data stream with concept drift\n",
    "stream = synth.ConceptDriftStream(\n",
    "    stream=synth.STAGGER(\n",
    "        concepts=[(0, 0, 0), (1, 1, 1), (0, 1, 1)],\n",
    "        weights=[0.5, 0.5, 0.5],\n",
    "        seed=42\n",
    "    ),\n",
    "    drift_stream=synth.STAGGER(\n",
    "        concepts=[(1, 1, 1), (1, 0, 0), (0, 1, 1)],\n",
    "        weights=[0.5, 0.5, 0.5],\n",
    "        seed=42\n",
    "    ),\n",
    "    position=1000,\n",
    "    width=100,\n",
    "    seed=42\n",
    ")\n",
    "\n",
    "# Initialize metrics\n",
    "metrics_nb = {'Accuracy': metrics.Accuracy(), 'AUC': metrics.ROCAUC()}\n",
    "metrics_ht = {'Accuracy': metrics.Accuracy(), 'AUC': metrics.ROCAUC()}\n",
    "\n",
    "# Process the data stream\n",
    "for i, (x, y) in enumerate(stream.take(2000)):\n",
    "    # Update models\n",
    "    y_pred_nb = nb.predict_one(x)\n",
    "    nb = nb.learn_one(x, y)\n",
    "    y_pred_ht = ht.predict_one(x)\n",
    "    ht = ht.learn_one(x, y)\n",
    "\n",
    "    # Update metrics\n",
    "    for metric in metrics_nb.values():\n",
    "        metric.update(y, y_pred_nb)\n",
    "    for metric in metrics_ht.values():\n",
    "        metric.update(y, y_pred_ht)\n",
    "\n",
    "    # Check for drift\n",
    "    in_drift, _ = adwin.update(y_pred_nb)\n",
    "    if in_drift:\n",
    "        print(f\"Drift detected at index {i} for Naive Bayes\")\n",
    "        adwin.reset()\n",
    "        nb = naive_bayes.MultinomialNB()  # Reset Naive Bayes\n",
    "\n",
    "    in_drift, _ = adwin.update(y_pred_ht)\n",
    "    if in_drift:\n",
    "        print(f\"Drift detected at index {i} for Hoeffding Tree\")\n",
    "        adwin.reset()\n",
    "        ht = tree.HoeffdingTree()         # Reset Hoeffding Tree\n",
    "\n",
    "# Print final metrics\n",
    "print(\"Final Metrics for Naive Bayes:\", {metric_name: metric.get() for metric_name, metric in metrics_nb.items()})\n",
    "print(\"Final Metrics for Hoeffding Tree:\", {metric_name: metric.get() for metric_name, metric in metrics_ht.items()})\n"
   ]
  }
 ],
 "metadata": {
  "kernelspec": {
   "display_name": "Python 3 (ipykernel)",
   "language": "python",
   "name": "python3"
  },
  "language_info": {
   "codemirror_mode": {
    "name": "ipython",
    "version": 3
   },
   "file_extension": ".py",
   "mimetype": "text/x-python",
   "name": "python",
   "nbconvert_exporter": "python",
   "pygments_lexer": "ipython3",
   "version": "3.11.5"
  }
 },
 "nbformat": 4,
 "nbformat_minor": 5
}
