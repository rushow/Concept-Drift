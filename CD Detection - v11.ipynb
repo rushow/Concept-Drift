{
 "cells": [
  {
   "cell_type": "code",
   "execution_count": 10,
   "id": "8074b97d",
   "metadata": {},
   "outputs": [],
   "source": [
    "import pandas as pd\n",
    "from river import naive_bayes, tree, metrics, drift\n",
    "from sklearn.model_selection import train_test_split"
   ]
  },
  {
   "cell_type": "code",
   "execution_count": 11,
   "id": "4e9048a7",
   "metadata": {},
   "outputs": [],
   "source": [
    "def get_data():\n",
    "    # Placeholder for your actual data loading mechanism\n",
    "    df = pd.read_csv(\"dataverse/rt_8873985678962563_abrupto.csv\")\n",
    "    return df[['X1', 'X2']], df['class']"
   ]
  },
  {
   "cell_type": "code",
   "execution_count": 12,
   "id": "f42afffe",
   "metadata": {},
   "outputs": [],
   "source": [
    "# Load the dataset\n",
    "X, y = get_data()\n",
    "\n",
    "# Split the data into training and testing sets\n",
    "X_train, X_test, y_train, y_test = train_test_split(X, y, test_size=0.3, random_state=42)"
   ]
  },
  {
   "cell_type": "code",
   "execution_count": 13,
   "id": "3893b840",
   "metadata": {},
   "outputs": [],
   "source": [
    "# Initialize drift detectors\n",
    "drift_detectors = {\n",
    "    'ADWIN': drift.ADWIN(),\n",
    "    'KSWIN': drift.KSWIN(),\n",
    "    'DDM': drift.binary.DDM(),\n",
    "    'EDDM': drift.binary.EDDM(),\n",
    "    'PageHinkley': drift.PageHinkley()\n",
    "}\n",
    "\n",
    "# Initialize base learners\n",
    "base_learners = {\n",
    "    'Naive Bayes': naive_bayes.GaussianNB(),\n",
    "    'Hoeffding Tree': tree.HoeffdingTreeClassifier()\n",
    "}\n",
    "\n",
    "# Initialize metrics\n",
    "metrics_dict = {name: {'accuracy': metrics.Accuracy(), 'auc': metrics.ROCAUC()} for name in base_learners}"
   ]
  },
  {
   "cell_type": "code",
   "execution_count": 14,
   "id": "632c9785",
   "metadata": {},
   "outputs": [],
   "source": [
    "# Function to train and test models with different drift detectors\n",
    "def train_and_evaluate(base_learner_name, base_learner, drift_detector):\n",
    "    model = base_learner.clone()\n",
    "    model_metrics = {metric_name: metric.clone() for metric_name, metric in metrics_dict[base_learner_name].items()}\n",
    "    i = 0\n",
    "    \n",
    "    for x, y_true in zip(X_train.to_dict(orient='records'), y_train):\n",
    "        pred = model.predict_one(x)\n",
    "        is_correct = int(pred != y_true)\n",
    "        \n",
    "        # Update drift detector with the error signal (0 or 1)\n",
    "        in_drift = drift_detector.update(is_correct).change if hasattr(drift_detector.update(is_correct), 'change') else False\n",
    "        \n",
    "        if in_drift:\n",
    "            print(f\"Change detected at index {i}\")\n",
    "            model = base_learner.clone()\n",
    "            model_metrics = {metric_name: metric.clone() for metric_name, metric in metrics_dict[base_learner_name].items()}\n",
    "        \n",
    "        model.learn_one(x, y_true)\n",
    "        \n",
    "#         for metric in model_metrics.values():\n",
    "#             metric.update(float(y_true), float(pred))\n",
    "        i = i + 1\n",
    "    \n",
    "    for x, y_true in zip(X_test.to_dict(orient='records'), y_test):\n",
    "        pred = model.predict_one(x)\n",
    "        for metric in model_metrics.values():\n",
    "            metric.update(y_true, pred)\n",
    "    \n",
    "    return model_metrics"
   ]
  },
  {
   "cell_type": "code",
   "execution_count": 15,
   "id": "ad095f98",
   "metadata": {},
   "outputs": [
    {
     "name": "stdout",
     "output_type": "stream",
     "text": [
      "Evaluating Naive Bayes with ADWIN:\n",
      "accuracy: 0.655\n",
      "auc: 0.6518166422474463\n",
      "Evaluating Hoeffding Tree with ADWIN:\n",
      "accuracy: 0.6869166666666666\n",
      "auc: 0.6863718631151413\n",
      "Evaluating Naive Bayes with KSWIN:\n",
      "accuracy: 0.655\n",
      "auc: 0.6518166422474463\n",
      "Evaluating Hoeffding Tree with KSWIN:\n",
      "accuracy: 0.6869166666666666\n",
      "auc: 0.6863718631151413\n",
      "Evaluating Naive Bayes with DDM:\n",
      "accuracy: 0.655\n",
      "auc: 0.6518166422474463\n",
      "Evaluating Hoeffding Tree with DDM:\n",
      "accuracy: 0.6869166666666666\n",
      "auc: 0.6863718631151413\n",
      "Evaluating Naive Bayes with EDDM:\n",
      "accuracy: 0.655\n",
      "auc: 0.6518166422474463\n",
      "Evaluating Hoeffding Tree with EDDM:\n",
      "accuracy: 0.6869166666666666\n",
      "auc: 0.6863718631151413\n",
      "Evaluating Naive Bayes with PageHinkley:\n",
      "accuracy: 0.655\n",
      "auc: 0.6518166422474463\n",
      "Evaluating Hoeffding Tree with PageHinkley:\n",
      "accuracy: 0.6869166666666666\n",
      "auc: 0.6863718631151413\n"
     ]
    }
   ],
   "source": [
    "\n",
    "# Evaluate each combination of base learner and drift detector\n",
    "for drift_name, drift_detector in drift_detectors.items():\n",
    "    for learner_name, learner in base_learners.items():\n",
    "        print(f\"Evaluating {learner_name} with {drift_name}:\")\n",
    "        evaluated_metrics = train_and_evaluate(learner_name, learner, drift_detector.clone())\n",
    "        for metric_name, metric in evaluated_metrics.items():\n",
    "            print(f\"{metric_name}: {metric.get()}\")\n",
    "\n"
   ]
  }
 ],
 "metadata": {
  "kernelspec": {
   "display_name": "Python 3 (ipykernel)",
   "language": "python",
   "name": "python3"
  },
  "language_info": {
   "codemirror_mode": {
    "name": "ipython",
    "version": 3
   },
   "file_extension": ".py",
   "mimetype": "text/x-python",
   "name": "python",
   "nbconvert_exporter": "python",
   "pygments_lexer": "ipython3",
   "version": "3.11.5"
  }
 },
 "nbformat": 4,
 "nbformat_minor": 5
}
