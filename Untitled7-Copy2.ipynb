{
 "cells": [
  {
   "cell_type": "code",
   "execution_count": 80,
   "id": "6e659f9e",
   "metadata": {},
   "outputs": [],
   "source": [
    "import pandas as pd\n",
    "import numpy as np\n",
    "import matplotlib.pyplot as plt\n",
    "import seaborn as sns\n",
    "from sklearn.model_selection import train_test_split\n",
    "from sklearn.metrics import classification_report,confusion_matrix,accuracy_score, precision_score, recall_score, f1_score\n",
    "import time"
   ]
  },
  {
   "cell_type": "code",
   "execution_count": 81,
   "id": "e5322fc6",
   "metadata": {},
   "outputs": [],
   "source": [
    "def get_data():\n",
    "    df  = pd.read_csv(\"dataverse/rt_8873985678962563_gradual.csv\")\n",
    "\n",
    "    X, y = [], []\n",
    "\n",
    "    for i in range(len(df)):\n",
    "        X.append([df.loc[i, \"X1\"], df.loc[i, \"X2\"]])\n",
    "        y.append(df.loc[i, \"class\"])\n",
    "\n",
    "    return np.array(features), np.array(labels)\n",
    "\n"
   ]
  },
  {
   "cell_type": "code",
   "execution_count": 82,
   "id": "936cf3de",
   "metadata": {},
   "outputs": [],
   "source": [
    "# Load the dataset\n",
    "X, y = get_data()\n",
    "\n",
    "# Split the data into training and testing sets\n",
    "X_train, X_test, y_train, y_test = train_test_split(X, y, test_size=0.3, random_state=42)"
   ]
  },
  {
   "cell_type": "code",
   "execution_count": 83,
   "id": "c6cccabf",
   "metadata": {},
   "outputs": [],
   "source": [
    "# Import the online learning metrics and algorithms from the River library\n",
    "from river import metrics\n",
    "from river import stream\n",
    "from river import tree,neighbors,naive_bayes,ensemble,linear_model\n",
    "from river.drift import ADWIN, KSWIN\n",
    "from river.drift.binary import DDM, EDDM\n",
    "from river import forest"
   ]
  },
  {
   "cell_type": "code",
   "execution_count": 84,
   "id": "d1f4708a",
   "metadata": {},
   "outputs": [
    {
     "ename": "AttributeError",
     "evalue": "'numpy.ndarray' object has no attribute 'columns'",
     "output_type": "error",
     "traceback": [
      "\u001b[1;31m---------------------------------------------------------------------------\u001b[0m",
      "\u001b[1;31mAttributeError\u001b[0m                            Traceback (most recent call last)",
      "Cell \u001b[1;32mIn[84], line 1\u001b[0m\n\u001b[1;32m----> 1\u001b[0m \u001b[38;5;28;01mfor\u001b[39;00m xi, yi \u001b[38;5;129;01min\u001b[39;00m stream\u001b[38;5;241m.\u001b[39miter_pandas(X_test, y_test):\n\u001b[0;32m      2\u001b[0m     drift_detector \u001b[38;5;241m=\u001b[39m DDM()\n\u001b[0;32m      3\u001b[0m     drift_detector\u001b[38;5;241m.\u001b[39mupdate(\u001b[38;5;28mfloat\u001b[39m(yi))\n",
      "File \u001b[1;32m~\\anaconda3\\Lib\\site-packages\\river\\stream\\iter_pandas.py:44\u001b[0m, in \u001b[0;36miter_pandas\u001b[1;34m(X, y, **kwargs)\u001b[0m\n\u001b[0;32m      8\u001b[0m \u001b[38;5;28;01mdef\u001b[39;00m \u001b[38;5;21miter_pandas\u001b[39m(\n\u001b[0;32m      9\u001b[0m     X: pd\u001b[38;5;241m.\u001b[39mDataFrame, y: pd\u001b[38;5;241m.\u001b[39mSeries \u001b[38;5;241m|\u001b[39m pd\u001b[38;5;241m.\u001b[39mDataFrame \u001b[38;5;241m|\u001b[39m \u001b[38;5;28;01mNone\u001b[39;00m \u001b[38;5;241m=\u001b[39m \u001b[38;5;28;01mNone\u001b[39;00m, \u001b[38;5;241m*\u001b[39m\u001b[38;5;241m*\u001b[39mkwargs\n\u001b[0;32m     10\u001b[0m ) \u001b[38;5;241m-\u001b[39m\u001b[38;5;241m>\u001b[39m base\u001b[38;5;241m.\u001b[39mtyping\u001b[38;5;241m.\u001b[39mStream:\n\u001b[0;32m     11\u001b[0m \u001b[38;5;250m    \u001b[39m\u001b[38;5;124;03m\"\"\"Iterates over the rows of a `pandas.DataFrame`.\u001b[39;00m\n\u001b[0;32m     12\u001b[0m \n\u001b[0;32m     13\u001b[0m \u001b[38;5;124;03m    Parameters\u001b[39;00m\n\u001b[1;32m   (...)\u001b[0m\n\u001b[0;32m     41\u001b[0m \n\u001b[0;32m     42\u001b[0m \u001b[38;5;124;03m    \"\"\"\u001b[39;00m\n\u001b[1;32m---> 44\u001b[0m     kwargs[\u001b[38;5;124m\"\u001b[39m\u001b[38;5;124mfeature_names\u001b[39m\u001b[38;5;124m\"\u001b[39m] \u001b[38;5;241m=\u001b[39m X\u001b[38;5;241m.\u001b[39mcolumns\n\u001b[0;32m     45\u001b[0m     \u001b[38;5;28;01mif\u001b[39;00m \u001b[38;5;28misinstance\u001b[39m(y, pd\u001b[38;5;241m.\u001b[39mDataFrame):\n\u001b[0;32m     46\u001b[0m         kwargs[\u001b[38;5;124m\"\u001b[39m\u001b[38;5;124mtarget_names\u001b[39m\u001b[38;5;124m\"\u001b[39m] \u001b[38;5;241m=\u001b[39m y\u001b[38;5;241m.\u001b[39mcolumns\n",
      "\u001b[1;31mAttributeError\u001b[0m: 'numpy.ndarray' object has no attribute 'columns'"
     ]
    }
   ],
   "source": [
    "\n",
    "for xi, yi in stream.iter_pandas(X_test, y_test):\n",
    "    drift_detector = DDM()\n",
    "    drift_detector.update(float(yi))\n",
    "    if drift_detector.drift_detected:\n",
    "        print(f\"Change detected at index {i}\")\n",
    "        drift_detector.reset()"
   ]
  },
  {
   "cell_type": "code",
   "execution_count": null,
   "id": "d9a746b6",
   "metadata": {},
   "outputs": [],
   "source": [
    "# Drift detection\n",
    "drift_detector = ADWIN()\n",
    "drifts = []\n",
    "\n",
    "for i, (feature, label) in enumerate(zip(X, y)):\n",
    "    drift_detector.update(label)   # Here we are using the label for drift detection\n",
    "    if drift_detector.drift_detected:\n",
    "        print(f'Change detected at index {i}')\n",
    "        drifts.append(i)\n",
    "#         drift_detector.reset()   # Resetting the detector after a drift is detected\n",
    "\n",
    "\n"
   ]
  },
  {
   "cell_type": "code",
   "execution_count": null,
   "id": "b6fcd484",
   "metadata": {},
   "outputs": [],
   "source": []
  },
  {
   "cell_type": "code",
   "execution_count": null,
   "id": "fd0c381d",
   "metadata": {},
   "outputs": [],
   "source": []
  },
  {
   "cell_type": "code",
   "execution_count": null,
   "id": "f3147174",
   "metadata": {},
   "outputs": [],
   "source": []
  },
  {
   "cell_type": "code",
   "execution_count": null,
   "id": "0be2716d",
   "metadata": {},
   "outputs": [],
   "source": []
  },
  {
   "cell_type": "code",
   "execution_count": null,
   "id": "687177c6",
   "metadata": {},
   "outputs": [],
   "source": []
  },
  {
   "cell_type": "code",
   "execution_count": null,
   "id": "0c3e0665",
   "metadata": {},
   "outputs": [],
   "source": []
  }
 ],
 "metadata": {
  "kernelspec": {
   "display_name": "Python 3 (ipykernel)",
   "language": "python",
   "name": "python3"
  },
  "language_info": {
   "codemirror_mode": {
    "name": "ipython",
    "version": 3
   },
   "file_extension": ".py",
   "mimetype": "text/x-python",
   "name": "python",
   "nbconvert_exporter": "python",
   "pygments_lexer": "ipython3",
   "version": "3.11.5"
  }
 },
 "nbformat": 4,
 "nbformat_minor": 5
}
