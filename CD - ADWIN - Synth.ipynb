{
 "cells": [
  {
   "cell_type": "code",
   "execution_count": 27,
   "id": "e6e8a335",
   "metadata": {},
   "outputs": [],
   "source": [
    "# pip install --user river"
   ]
  },
  {
   "cell_type": "code",
   "execution_count": 28,
   "id": "ee5bc066",
   "metadata": {},
   "outputs": [],
   "source": [
    "import numpy as np\n",
    "from sklearn.tree import DecisionTreeClassifier\n",
    "from sklearn.naive_bayes import GaussianNB\n",
    "from sklearn.metrics import accuracy_score, roc_auc_score\n",
    "from river import drift\n",
    "from sklearn.model_selection import train_test_split"
   ]
  },
  {
   "cell_type": "code",
   "execution_count": 29,
   "id": "b378ccb8",
   "metadata": {},
   "outputs": [],
   "source": [
    "# Function to generate synthetic dataset\n",
    "def generate_data():\n",
    "    X = np.random.rand(40000, 2)\n",
    "    y = np.random.randint(2, size=40000)\n",
    "    # Inserting drifts\n",
    "    for i in range(1000, 11000, 1000):\n",
    "        y[i:i+1000] = 1 - y[i:i+1000]\n",
    "    for i in range(11000, 21000, 1000):\n",
    "        y[i:i+1000] = 1 - y[i:i+1000]\n",
    "    for i in range(21000, 31000, 1000):\n",
    "        y[i:i+1000] = 1 - y[i:i+1000]\n",
    "    return X, y"
   ]
  },
  {
   "cell_type": "code",
   "execution_count": 30,
   "id": "88edea44",
   "metadata": {},
   "outputs": [
    {
     "name": "stdout",
     "output_type": "stream",
     "text": [
      "Decision Tree: Accuracy = 0.50, AUC = 0.50\n",
      "Naive Bayes: Accuracy = 0.50, AUC = 0.50\n"
     ]
    }
   ],
   "source": [
    "\n",
    "# Create synthetic dataset\n",
    "X, y = generate_data()\n",
    "\n",
    "# Splitting the dataset into training and testing sets\n",
    "X_train, X_test, y_train, y_test = train_test_split(X, y, test_size=0.5, random_state=42)\n",
    "\n",
    "# Initialize base learners\n",
    "learners = {\n",
    "    \"Decision Tree\": DecisionTreeClassifier(),\n",
    "    \"Naive Bayes\": GaussianNB()\n",
    "}\n",
    "\n",
    "# Initialize DDM\n",
    "# ddm = drift.ADWIN()\n",
    "\n",
    "# Function to evaluate a model\n",
    "def evaluate_model(model, X_train, y_train, X_test, y_test):\n",
    "    model.fit(X_train, y_train)\n",
    "    y_pred = model.predict(X_test)\n",
    "    accuracy = accuracy_score(y_test, y_pred)\n",
    "    auc = roc_auc_score(y_test, y_pred)\n",
    "    return accuracy, auc\n",
    "\n",
    "# Evaluate each learner with DDM\n",
    "for name, learner in learners.items():\n",
    "    accuracy, auc = evaluate_model(learner, X_train, y_train, X_test, y_test)\n",
    "    print(f\"{name}: Accuracy = {accuracy:.2f}, AUC = {auc:.2f}\")\n"
   ]
  },
  {
   "cell_type": "code",
   "execution_count": null,
   "id": "492cfd81",
   "metadata": {},
   "outputs": [],
   "source": []
  }
 ],
 "metadata": {
  "kernelspec": {
   "display_name": "Python 3 (ipykernel)",
   "language": "python",
   "name": "python3"
  },
  "language_info": {
   "codemirror_mode": {
    "name": "ipython",
    "version": 3
   },
   "file_extension": ".py",
   "mimetype": "text/x-python",
   "name": "python",
   "nbconvert_exporter": "python",
   "pygments_lexer": "ipython3",
   "version": "3.11.5"
  }
 },
 "nbformat": 4,
 "nbformat_minor": 5
}
