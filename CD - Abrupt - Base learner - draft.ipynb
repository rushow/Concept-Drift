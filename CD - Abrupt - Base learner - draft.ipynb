{
 "cells": [
  {
   "cell_type": "code",
   "execution_count": 8,
   "id": "3485d8f8",
   "metadata": {},
   "outputs": [],
   "source": [
    "import pandas as pd\n",
    "from river import naive_bayes, tree, metrics, drift\n",
    "from sklearn.model_selection import train_test_split"
   ]
  },
  {
   "cell_type": "code",
   "execution_count": 9,
   "id": "66a441c6",
   "metadata": {},
   "outputs": [],
   "source": [
    "def get_data():\n",
    "    df = pd.read_csv(\"rt_8873985678962563_abrupto.csv\")\n",
    "    return df[['X1', 'X2']], df['class']"
   ]
  },
  {
   "cell_type": "code",
   "execution_count": 10,
   "id": "c973b7c2",
   "metadata": {},
   "outputs": [],
   "source": [
    "# Load the dataset\n",
    "X, y = get_data()"
   ]
  },
  {
   "cell_type": "code",
   "execution_count": 11,
   "id": "f1394d83",
   "metadata": {},
   "outputs": [],
   "source": [
    "# Split the data into training and testing sets\n",
    "X_train, X_test, y_train, y_test = train_test_split(X, y, test_size=0.3, random_state=42)"
   ]
  },
  {
   "cell_type": "code",
   "execution_count": 12,
   "id": "261472df",
   "metadata": {},
   "outputs": [],
   "source": [
    "# Initialize two base learners\n",
    "nb_model = naive_bayes.GaussianNB()\n",
    "ht_model = tree.HoeffdingTreeClassifier()"
   ]
  },
  {
   "cell_type": "code",
   "execution_count": 13,
   "id": "373a4ef2",
   "metadata": {},
   "outputs": [],
   "source": [
    "# Initialize ADWIN drift detector\n",
    "adwin = drift.ADWIN()"
   ]
  },
  {
   "cell_type": "code",
   "execution_count": 14,
   "id": "736975b2",
   "metadata": {},
   "outputs": [],
   "source": [
    "# Initialize metrics\n",
    "nb_metrics = {'accuracy': metrics.Accuracy(), 'auc': metrics.ROCAUC()}\n",
    "ht_metrics = {'accuracy': metrics.Accuracy(), 'auc': metrics.ROCAUC()}"
   ]
  },
  {
   "cell_type": "code",
   "execution_count": 15,
   "id": "436fff58",
   "metadata": {},
   "outputs": [],
   "source": [
    "# Train and evaluate the models\n",
    "for x, y_true in zip(X_train.to_dict(orient='records'), y_train):\n",
    "    # Update ADWIN and check for drift\n",
    "    adwin.update(y_true)\n",
    "    if adwin.drift_detected:\n",
    "        # If drift is detected, reinitialize the models\n",
    "        nb_model = naive_bayes.GaussianNB()\n",
    "        ht_model = tree.HoeffdingTreeClassifier()\n",
    "\n",
    "    # Train the models\n",
    "    nb_model.learn_one(x, y_true)\n",
    "    ht_model.learn_one(x, y_true)\n",
    "\n",
    "    # Update metrics\n",
    "    for metric in nb_metrics.values():\n",
    "        metric.update(y_true, nb_model.predict_one(x))\n",
    "    for metric in ht_metrics.values():\n",
    "        metric.update(y_true, ht_model.predict_one(x))"
   ]
  },
  {
   "cell_type": "code",
   "execution_count": 16,
   "id": "ff344e85",
   "metadata": {},
   "outputs": [],
   "source": [
    "# Test the models\n",
    "for x, y_true in zip(X_test.to_dict(orient='records'), y_test):\n",
    "    for metric in nb_metrics.values():\n",
    "        metric.update(y_true, nb_model.predict_one(x))\n",
    "    for metric in ht_metrics.values():\n",
    "        metric.update(y_true, ht_model.predict_one(x))"
   ]
  },
  {
   "cell_type": "code",
   "execution_count": 17,
   "id": "29aa928b",
   "metadata": {},
   "outputs": [
    {
     "name": "stdout",
     "output_type": "stream",
     "text": [
      "Naive Bayes Performance:\n",
      "accuracy: 0.656725\n",
      "auc: 0.654661007428267\n",
      "\n",
      "Hoeffding Tree Performance:\n",
      "accuracy: 0.67975\n",
      "auc: 0.6786962489427549\n"
     ]
    }
   ],
   "source": [
    "# Print the performance\n",
    "print(\"Naive Bayes Performance:\")\n",
    "for name, metric in nb_metrics.items():\n",
    "    print(f\"{name}: {metric.get()}\")\n",
    "\n",
    "print(\"\\nHoeffding Tree Performance:\")\n",
    "for name, metric in ht_metrics.items():\n",
    "    print(f\"{name}: {metric.get()}\")\n"
   ]
  },
  {
   "cell_type": "code",
   "execution_count": null,
   "id": "29af3cde",
   "metadata": {},
   "outputs": [],
   "source": []
  }
 ],
 "metadata": {
  "kernelspec": {
   "display_name": "Python 3 (ipykernel)",
   "language": "python",
   "name": "python3"
  },
  "language_info": {
   "codemirror_mode": {
    "name": "ipython",
    "version": 3
   },
   "file_extension": ".py",
   "mimetype": "text/x-python",
   "name": "python",
   "nbconvert_exporter": "python",
   "pygments_lexer": "ipython3",
   "version": "3.11.5"
  }
 },
 "nbformat": 4,
 "nbformat_minor": 5
}
