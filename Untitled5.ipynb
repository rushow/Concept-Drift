{
 "cells": [
  {
   "cell_type": "code",
   "execution_count": 23,
   "id": "cb85a14e",
   "metadata": {},
   "outputs": [],
   "source": [
    "import numpy as np\n",
    "import pandas as pd\n",
    "import matplotlib.pyplot as plt\n",
    "from matplotlib import gridspec\n",
    "from sklearn.model_selection import train_test_split\n",
    "\n",
    "from river import drift"
   ]
  },
  {
   "cell_type": "code",
   "execution_count": 24,
   "id": "fcf5452a",
   "metadata": {},
   "outputs": [
    {
     "data": {
      "text/html": [
       "<div>\n",
       "<style scoped>\n",
       "    .dataframe tbody tr th:only-of-type {\n",
       "        vertical-align: middle;\n",
       "    }\n",
       "\n",
       "    .dataframe tbody tr th {\n",
       "        vertical-align: top;\n",
       "    }\n",
       "\n",
       "    .dataframe thead th {\n",
       "        text-align: right;\n",
       "    }\n",
       "</style>\n",
       "<table border=\"1\" class=\"dataframe\">\n",
       "  <thead>\n",
       "    <tr style=\"text-align: right;\">\n",
       "      <th></th>\n",
       "      <th>X1</th>\n",
       "      <th>X2</th>\n",
       "      <th>class</th>\n",
       "    </tr>\n",
       "  </thead>\n",
       "  <tbody>\n",
       "    <tr>\n",
       "      <th>0</th>\n",
       "      <td>0.903890</td>\n",
       "      <td>0.941369</td>\n",
       "      <td>1.0</td>\n",
       "    </tr>\n",
       "    <tr>\n",
       "      <th>1</th>\n",
       "      <td>0.609646</td>\n",
       "      <td>0.327265</td>\n",
       "      <td>0.0</td>\n",
       "    </tr>\n",
       "    <tr>\n",
       "      <th>2</th>\n",
       "      <td>0.723068</td>\n",
       "      <td>0.986405</td>\n",
       "      <td>0.0</td>\n",
       "    </tr>\n",
       "    <tr>\n",
       "      <th>3</th>\n",
       "      <td>0.979775</td>\n",
       "      <td>0.182350</td>\n",
       "      <td>0.0</td>\n",
       "    </tr>\n",
       "    <tr>\n",
       "      <th>4</th>\n",
       "      <td>0.390638</td>\n",
       "      <td>0.902033</td>\n",
       "      <td>1.0</td>\n",
       "    </tr>\n",
       "  </tbody>\n",
       "</table>\n",
       "</div>"
      ],
      "text/plain": [
       "         X1        X2  class\n",
       "0  0.903890  0.941369    1.0\n",
       "1  0.609646  0.327265    0.0\n",
       "2  0.723068  0.986405    0.0\n",
       "3  0.979775  0.182350    0.0\n",
       "4  0.390638  0.902033    1.0"
      ]
     },
     "execution_count": 24,
     "metadata": {},
     "output_type": "execute_result"
    }
   ],
   "source": [
    "df_abrupt  = pd.read_csv(\"rt_8873985678962563_abrupto.csv\")\n",
    "df_abrupt.head()"
   ]
  },
  {
   "cell_type": "code",
   "execution_count": 25,
   "id": "128e8559",
   "metadata": {},
   "outputs": [
    {
     "data": {
      "text/html": [
       "<div>\n",
       "<style scoped>\n",
       "    .dataframe tbody tr th:only-of-type {\n",
       "        vertical-align: middle;\n",
       "    }\n",
       "\n",
       "    .dataframe tbody tr th {\n",
       "        vertical-align: top;\n",
       "    }\n",
       "\n",
       "    .dataframe thead th {\n",
       "        text-align: right;\n",
       "    }\n",
       "</style>\n",
       "<table border=\"1\" class=\"dataframe\">\n",
       "  <thead>\n",
       "    <tr style=\"text-align: right;\">\n",
       "      <th></th>\n",
       "      <th>X1</th>\n",
       "      <th>X2</th>\n",
       "      <th>class</th>\n",
       "    </tr>\n",
       "  </thead>\n",
       "  <tbody>\n",
       "    <tr>\n",
       "      <th>0</th>\n",
       "      <td>0.550284</td>\n",
       "      <td>0.918541</td>\n",
       "      <td>0.0</td>\n",
       "    </tr>\n",
       "    <tr>\n",
       "      <th>1</th>\n",
       "      <td>0.564631</td>\n",
       "      <td>0.409379</td>\n",
       "      <td>0.0</td>\n",
       "    </tr>\n",
       "    <tr>\n",
       "      <th>2</th>\n",
       "      <td>0.430762</td>\n",
       "      <td>0.624576</td>\n",
       "      <td>0.0</td>\n",
       "    </tr>\n",
       "    <tr>\n",
       "      <th>3</th>\n",
       "      <td>0.662184</td>\n",
       "      <td>0.154598</td>\n",
       "      <td>0.0</td>\n",
       "    </tr>\n",
       "    <tr>\n",
       "      <th>4</th>\n",
       "      <td>0.266372</td>\n",
       "      <td>0.541274</td>\n",
       "      <td>1.0</td>\n",
       "    </tr>\n",
       "  </tbody>\n",
       "</table>\n",
       "</div>"
      ],
      "text/plain": [
       "         X1        X2  class\n",
       "0  0.550284  0.918541    0.0\n",
       "1  0.564631  0.409379    0.0\n",
       "2  0.430762  0.624576    0.0\n",
       "3  0.662184  0.154598    0.0\n",
       "4  0.266372  0.541274    1.0"
      ]
     },
     "execution_count": 25,
     "metadata": {},
     "output_type": "execute_result"
    }
   ],
   "source": [
    "df_gradual  = pd.read_csv(\"rt_2563789698568873_gradual.csv\")\n",
    "df_gradual.head()"
   ]
  },
  {
   "cell_type": "code",
   "execution_count": 26,
   "id": "b6016419",
   "metadata": {},
   "outputs": [
    {
     "data": {
      "text/plain": [
       "[0, 0, 1, 0, 0, 0, 1, 0, 0, 0, 6, 4, 6, 5, 7, 4, 7, 5, 6, 4]"
      ]
     },
     "execution_count": 26,
     "metadata": {},
     "output_type": "execute_result"
    }
   ],
   "source": [
    "# import random\n",
    "\n",
    "# rng = random.Random(12345)\n",
    "# data_stream = rng.choices([0, 1], k=10) + rng.choices(range(4, 8), k=10)\n",
    "# data_stream"
   ]
  },
  {
   "cell_type": "code",
   "execution_count": 27,
   "id": "dc436062",
   "metadata": {},
   "outputs": [],
   "source": [
    "adwin = drift.ADWIN()"
   ]
  },
  {
   "cell_type": "code",
   "execution_count": 37,
   "id": "de476964",
   "metadata": {},
   "outputs": [
    {
     "ename": "TypeError",
     "evalue": "cannot unpack non-iterable NoneType object",
     "output_type": "error",
     "traceback": [
      "\u001b[1;31m---------------------------------------------------------------------------\u001b[0m",
      "\u001b[1;31mTypeError\u001b[0m                                 Traceback (most recent call last)",
      "Cell \u001b[1;32mIn[37], line 3\u001b[0m\n\u001b[0;32m      1\u001b[0m \u001b[38;5;28;01mfor\u001b[39;00m ind \u001b[38;5;129;01min\u001b[39;00m df_abrupt\u001b[38;5;241m.\u001b[39mindex:\n\u001b[0;32m      2\u001b[0m \u001b[38;5;66;03m#     print(df_abrupt['X1'][ind], df_abrupt['X2'][ind])\u001b[39;00m\n\u001b[1;32m----> 3\u001b[0m     in_drift, _ \u001b[38;5;241m=\u001b[39m adwin\u001b[38;5;241m.\u001b[39mupdate(df_abrupt[\u001b[38;5;124m'\u001b[39m\u001b[38;5;124mX1\u001b[39m\u001b[38;5;124m'\u001b[39m][ind])\n\u001b[0;32m      4\u001b[0m     \u001b[38;5;28;01mif\u001b[39;00m in_drift:\n\u001b[0;32m      5\u001b[0m         \u001b[38;5;28mprint\u001b[39m(\u001b[38;5;124mf\u001b[39m\u001b[38;5;124m\"\u001b[39m\u001b[38;5;124mChange detected at index \u001b[39m\u001b[38;5;132;01m{\u001b[39;00mi\u001b[38;5;132;01m}\u001b[39;00m\u001b[38;5;124m, input value: \u001b[39m\u001b[38;5;132;01m{\u001b[39;00mdf_abrupt[\u001b[38;5;124m'\u001b[39m\u001b[38;5;124mX1\u001b[39m\u001b[38;5;124m'\u001b[39m][ind]\u001b[38;5;132;01m}\u001b[39;00m\u001b[38;5;124m\"\u001b[39m)\n",
      "\u001b[1;31mTypeError\u001b[0m: cannot unpack non-iterable NoneType object"
     ]
    }
   ],
   "source": [
    "for ind in df_abrupt.index:\n",
    "#     print(df_abrupt['X1'][ind], df_abrupt['X2'][ind])\n",
    "    in_drift, _ = adwin.update(df_abrupt['X1'][ind])\n",
    "    if in_drift:\n",
    "        print(f\"Change detected at index {i}, input value: {df_abrupt['X1'][ind]}\")\n",
    "        adwin.reset()  # Good practice\n",
    "\n",
    "    "
   ]
  },
  {
   "cell_type": "code",
   "execution_count": 31,
   "id": "b960e114",
   "metadata": {},
   "outputs": [
    {
     "ename": "TypeError",
     "evalue": "'DataFrame' object cannot be interpreted as an integer",
     "output_type": "error",
     "traceback": [
      "\u001b[1;31m---------------------------------------------------------------------------\u001b[0m",
      "\u001b[1;31mTypeError\u001b[0m                                 Traceback (most recent call last)",
      "Cell \u001b[1;32mIn[31], line 1\u001b[0m\n\u001b[1;32m----> 1\u001b[0m \u001b[38;5;28;01mfor\u001b[39;00m df \u001b[38;5;129;01min\u001b[39;00m \u001b[38;5;28mrange\u001b[39m(df_abrupt):\n\u001b[0;32m      2\u001b[0m     in_drift, _ \u001b[38;5;241m=\u001b[39m adwin\u001b[38;5;241m.\u001b[39mupdate(val)\n\u001b[0;32m      3\u001b[0m     \u001b[38;5;28;01mif\u001b[39;00m in_drift:\n",
      "\u001b[1;31mTypeError\u001b[0m: 'DataFrame' object cannot be interpreted as an integer"
     ]
    }
   ],
   "source": [
    "for df in df_abrupt:\n",
    "    in_drift, _ = adwin.update(df)\n",
    "    if in_drift:\n",
    "        print(f\"Change detected at index {i}, input value: {val}\")\n",
    "        adwin.reset()  # Good practice"
   ]
  },
  {
   "cell_type": "code",
   "execution_count": null,
   "id": "ac093f4e",
   "metadata": {},
   "outputs": [],
   "source": []
  }
 ],
 "metadata": {
  "kernelspec": {
   "display_name": "Python 3 (ipykernel)",
   "language": "python",
   "name": "python3"
  },
  "language_info": {
   "codemirror_mode": {
    "name": "ipython",
    "version": 3
   },
   "file_extension": ".py",
   "mimetype": "text/x-python",
   "name": "python",
   "nbconvert_exporter": "python",
   "pygments_lexer": "ipython3",
   "version": "3.11.5"
  }
 },
 "nbformat": 4,
 "nbformat_minor": 5
}
