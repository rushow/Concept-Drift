{
 "cells": [
  {
   "cell_type": "code",
   "execution_count": 1,
   "id": "5b40fc2b",
   "metadata": {},
   "outputs": [],
   "source": [
    "# pip install -U river"
   ]
  },
  {
   "cell_type": "code",
   "execution_count": 2,
   "id": "19179853",
   "metadata": {},
   "outputs": [],
   "source": [
    "import pandas as pd\n",
    "import numpy as np\n",
    "from pprint import pprint\n",
    "import river"
   ]
  },
  {
   "cell_type": "code",
   "execution_count": 3,
   "id": "89194bde",
   "metadata": {},
   "outputs": [],
   "source": [
    "#Method\n",
    "# dir(river)"
   ]
  },
  {
   "cell_type": "code",
   "execution_count": 4,
   "id": "912b0556",
   "metadata": {},
   "outputs": [],
   "source": [
    "from river import datasets\n",
    "from river import drift\n",
    "from river import evaluate\n",
    "from river import compose\n",
    "from river import linear_model\n",
    "from river import metrics\n",
    "from river import preprocessing\n",
    "from river import naive_bayes"
   ]
  },
  {
   "cell_type": "code",
   "execution_count": 5,
   "id": "019963d6",
   "metadata": {},
   "outputs": [],
   "source": [
    "import matplotlib.pyplot as plt\n",
    "from matplotlib import gridspec"
   ]
  },
  {
   "cell_type": "code",
   "execution_count": 6,
   "id": "b9843218",
   "metadata": {},
   "outputs": [],
   "source": [
    "# Load the Electricity Market dataset\n",
    "dataset = datasets.Elec2()"
   ]
  },
  {
   "cell_type": "code",
   "execution_count": 7,
   "id": "c3d73c00",
   "metadata": {},
   "outputs": [
    {
     "name": "stdout",
     "output_type": "stream",
     "text": [
      "{'date': 0.0,\n",
      " 'day': 2,\n",
      " 'nswdemand': 0.439155,\n",
      " 'nswprice': 0.056443,\n",
      " 'period': 0.0,\n",
      " 'transfer': 0.414912,\n",
      " 'vicdemand': 0.422915,\n",
      " 'vicprice': 0.003467}\n",
      "True\n"
     ]
    }
   ],
   "source": [
    "for x, y in dataset:\n",
    "    pprint(x)\n",
    "    print(y)\n",
    "    break"
   ]
  },
  {
   "cell_type": "code",
   "execution_count": 8,
   "id": "5373837b",
   "metadata": {},
   "outputs": [],
   "source": [
    "# Define a model\n",
    "model = compose.Pipeline(\n",
    "    preprocessing.StandardScaler(),\n",
    "    naive_bayes.GaussianNB()\n",
    ")"
   ]
  },
  {
   "cell_type": "code",
   "execution_count": 9,
   "id": "9a618fbf",
   "metadata": {},
   "outputs": [],
   "source": [
    "# Initialize the drift detector\n",
    "drift_detector = drift.ADWIN()\n",
    "\n",
    "# Initialize a metric\n",
    "metric = metrics.Accuracy()"
   ]
  },
  {
   "cell_type": "code",
   "execution_count": 10,
   "id": "919e45af",
   "metadata": {},
   "outputs": [
    {
     "ename": "TypeError",
     "evalue": "cannot unpack non-iterable ADWIN object",
     "output_type": "error",
     "traceback": [
      "\u001b[1;31m---------------------------------------------------------------------------\u001b[0m",
      "\u001b[1;31mTypeError\u001b[0m                                 Traceback (most recent call last)",
      "Cell \u001b[1;32mIn[10], line 14\u001b[0m\n\u001b[0;32m     11\u001b[0m metric \u001b[38;5;241m=\u001b[39m metric\u001b[38;5;241m.\u001b[39mupdate(y, y_pred)\n\u001b[0;32m     13\u001b[0m \u001b[38;5;66;03m# Check for drift\u001b[39;00m\n\u001b[1;32m---> 14\u001b[0m in_drift, in_warning \u001b[38;5;241m=\u001b[39m drift_detector\u001b[38;5;241m.\u001b[39mupdate(y_pred \u001b[38;5;241m==\u001b[39m y)\n\u001b[0;32m     16\u001b[0m \u001b[38;5;28;01mif\u001b[39;00m in_drift:\n\u001b[0;32m     17\u001b[0m     \u001b[38;5;28mprint\u001b[39m(\u001b[38;5;124mf\u001b[39m\u001b[38;5;124m\"\u001b[39m\u001b[38;5;124mDrift detected at instance \u001b[39m\u001b[38;5;132;01m{\u001b[39;00mi\u001b[38;5;132;01m}\u001b[39;00m\u001b[38;5;124m\"\u001b[39m)\n",
      "\u001b[1;31mTypeError\u001b[0m: cannot unpack non-iterable ADWIN object"
     ]
    }
   ],
   "source": [
    "# Process and evaluate the stream\n",
    "for i, (x, y) in enumerate(dataset.take(20000)):  # Take first 20,000 instances for demonstration\n",
    "    \n",
    "    # Make a prediction\n",
    "    y_pred = model.predict_one(x)\n",
    "\n",
    "    # Update the model\n",
    "    model.learn_one(x, y)\n",
    "\n",
    "    # Update the metric\n",
    "    metric = metric.update(y, y_pred)\n",
    "\n",
    "    # Check for drift\n",
    "    in_drift, in_warning = drift_detector.update(y_pred == y)\n",
    "    \n",
    "    if in_drift:\n",
    "        print(f\"Drift detected at instance {i}\")\n",
    "        \n"
   ]
  },
  {
   "cell_type": "code",
   "execution_count": null,
   "id": "d0fc5b4e",
   "metadata": {},
   "outputs": [],
   "source": [
    "metric"
   ]
  },
  {
   "cell_type": "code",
   "execution_count": null,
   "id": "a3525a07",
   "metadata": {},
   "outputs": [],
   "source": []
  }
 ],
 "metadata": {
  "kernelspec": {
   "display_name": "Python 3 (ipykernel)",
   "language": "python",
   "name": "python3"
  },
  "language_info": {
   "codemirror_mode": {
    "name": "ipython",
    "version": 3
   },
   "file_extension": ".py",
   "mimetype": "text/x-python",
   "name": "python",
   "nbconvert_exporter": "python",
   "pygments_lexer": "ipython3",
   "version": "3.11.5"
  }
 },
 "nbformat": 4,
 "nbformat_minor": 5
}
