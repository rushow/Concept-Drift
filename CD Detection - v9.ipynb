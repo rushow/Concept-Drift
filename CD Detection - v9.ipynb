{
 "cells": [
  {
   "cell_type": "code",
   "execution_count": 43,
   "id": "b2e35473",
   "metadata": {},
   "outputs": [],
   "source": [
    "import pandas as pd\n",
    "import numpy as np\n",
    "import matplotlib.pyplot as plt\n",
    "import seaborn as sns\n",
    "from sklearn.model_selection import train_test_split\n",
    "from sklearn.metrics import classification_report,confusion_matrix,accuracy_score, precision_score, recall_score, f1_score\n",
    "import time"
   ]
  },
  {
   "cell_type": "code",
   "execution_count": 44,
   "id": "86b1b247",
   "metadata": {},
   "outputs": [],
   "source": [
    "# Import the online learning metrics and algorithms from the River library\n",
    "from river import metrics\n",
    "from river import stream\n",
    "from river import tree,neighbors,naive_bayes,ensemble,linear_model\n",
    "from river.drift import ADWIN, KSWIN\n",
    "from river.drift.binary import DDM, EDDM\n",
    "from river import forest"
   ]
  },
  {
   "cell_type": "code",
   "execution_count": 45,
   "id": "51ff2a0e",
   "metadata": {},
   "outputs": [],
   "source": [
    "def get_data():\n",
    "    df  = pd.read_csv(\"dataverse/rt_8873985678962563_gradual.csv\")\n",
    "\n",
    "    X, y = [], []\n",
    "\n",
    "    for i in range(len(df)):\n",
    "        X.append([df.loc[i, \"X1\"], df.loc[i, \"X2\"]])\n",
    "        y.append(df.loc[i, \"class\"])\n",
    "\n",
    "    return np.array(X), np.array(y)\n",
    "\n",
    "# Generate the dataset\n",
    "X, y = get_data()\n",
    "\n",
    "# Split the data into training and testing sets\n",
    "X_train, X_test, y_train, y_test = train_test_split(X, y, test_size=0.3, random_state=42)"
   ]
  },
  {
   "cell_type": "code",
   "execution_count": 46,
   "id": "f01aacf2",
   "metadata": {},
   "outputs": [
    {
     "ename": "AttributeError",
     "evalue": "'numpy.ndarray' object has no attribute 'items'",
     "output_type": "error",
     "traceback": [
      "\u001b[1;31m---------------------------------------------------------------------------\u001b[0m",
      "\u001b[1;31mAttributeError\u001b[0m                            Traceback (most recent call last)",
      "Cell \u001b[1;32mIn[46], line 8\u001b[0m\n\u001b[0;32m      6\u001b[0m \u001b[38;5;28;01mfor\u001b[39;00m i1, (Xi1, yi1) \u001b[38;5;129;01min\u001b[39;00m \u001b[38;5;28menumerate\u001b[39m(\u001b[38;5;28mzip\u001b[39m(X, y)):\n\u001b[0;32m      7\u001b[0m     y_pred\u001b[38;5;241m=\u001b[39m model_01\u001b[38;5;241m.\u001b[39mpredict_one(yi1)  \u001b[38;5;66;03m# Predict the test sample\u001b[39;00m\n\u001b[1;32m----> 8\u001b[0m     model_01\u001b[38;5;241m.\u001b[39mlearn_one(Xi1,yi1) \u001b[38;5;66;03m# Learn the test sample\u001b[39;00m\n\u001b[0;32m     10\u001b[0m     metric\u001b[38;5;241m.\u001b[39mupdate(yi1, y_pred) \u001b[38;5;66;03m# Update the real-time accuracy\u001b[39;00m\n\u001b[0;32m     11\u001b[0m     drift_detector\u001b[38;5;241m.\u001b[39mupdate(yi1)   \u001b[38;5;66;03m# Here we are using the label for drift detection\u001b[39;00m\n",
      "File \u001b[1;32m~\\anaconda3\\Lib\\site-packages\\river\\naive_bayes\\gaussian.py:52\u001b[0m, in \u001b[0;36mGaussianNB.learn_one\u001b[1;34m(self, x, y)\u001b[0m\n\u001b[0;32m     49\u001b[0m \u001b[38;5;28;01mdef\u001b[39;00m \u001b[38;5;21mlearn_one\u001b[39m(\u001b[38;5;28mself\u001b[39m, x, y):\n\u001b[0;32m     50\u001b[0m     \u001b[38;5;28mself\u001b[39m\u001b[38;5;241m.\u001b[39mclass_counts\u001b[38;5;241m.\u001b[39mupdate((y,))\n\u001b[1;32m---> 52\u001b[0m     \u001b[38;5;28;01mfor\u001b[39;00m i, xi \u001b[38;5;129;01min\u001b[39;00m x\u001b[38;5;241m.\u001b[39mitems():\n\u001b[0;32m     53\u001b[0m         \u001b[38;5;28mself\u001b[39m\u001b[38;5;241m.\u001b[39mgaussians[y][i]\u001b[38;5;241m.\u001b[39mupdate(xi)\n",
      "\u001b[1;31mAttributeError\u001b[0m: 'numpy.ndarray' object has no attribute 'items'"
     ]
    }
   ],
   "source": [
    "# Drift detection\n",
    "drift_detector_01 = DDM()\n",
    "model_01 = naive_bayes.GaussianNB() # Define the model\n",
    "metric = metrics.Accuracy() # Use accuracy as the metric\n",
    "\n",
    "for i1, (Xi1, yi1) in enumerate(zip(X, y)):\n",
    "    y_pred= model_01.predict_one(yi1)  # Predict the test sample\n",
    "    model_01.learn_one(Xi1,yi1) # Learn the test sample\n",
    "\n",
    "    metric.update(yi1, y_pred) # Update the real-time accuracy\n",
    "    drift_detector.update(yi1)   # Here we are using the label for drift detection\n",
    "    if drift_detector.drift_detected:\n",
    "        print(f'Change detected at index {i1}')\n",
    "#         drifts.append(i)\n",
    "#         drift_detector.reset()   # Resetting the detector after a drift is detected"
   ]
  },
  {
   "cell_type": "code",
   "execution_count": null,
   "id": "5035c678",
   "metadata": {},
   "outputs": [],
   "source": [
    "# Drift detection\n",
    "drift_detector = EDDM()\n",
    "# drifts = []\n",
    "\n",
    "for i2, (Xi2, yi2) in enumerate(zip(X, y)):\n",
    "    drift_detector.update(yi2)   # Here we are using the label for drift detection\n",
    "    if drift_detector.drift_detected:\n",
    "        print(f'Change detected at index {i2}')\n",
    "#         drifts.append(i)\n",
    "#         drift_detector.reset()   # Resetting the detector after a drift is detected"
   ]
  },
  {
   "cell_type": "code",
   "execution_count": null,
   "id": "7f4a52de",
   "metadata": {},
   "outputs": [],
   "source": [
    "# Drift detection\n",
    "drift_detector = ADWIN()\n",
    "# drifts = []\n",
    "\n",
    "for i3, (Xi3, yi3) in enumerate(zip(X, y)):\n",
    "    drift_detector.update(yi3)   # Here we are using the label for drift detection\n",
    "    if drift_detector.drift_detected:\n",
    "        print(f'Change detected at index {i3}')\n",
    "#         drifts.append(i)\n",
    "#         drift_detector.reset()   # Resetting the detector after a drift is detected"
   ]
  }
 ],
 "metadata": {
  "kernelspec": {
   "display_name": "Python 3 (ipykernel)",
   "language": "python",
   "name": "python3"
  },
  "language_info": {
   "codemirror_mode": {
    "name": "ipython",
    "version": 3
   },
   "file_extension": ".py",
   "mimetype": "text/x-python",
   "name": "python",
   "nbconvert_exporter": "python",
   "pygments_lexer": "ipython3",
   "version": "3.11.5"
  }
 },
 "nbformat": 4,
 "nbformat_minor": 5
}
